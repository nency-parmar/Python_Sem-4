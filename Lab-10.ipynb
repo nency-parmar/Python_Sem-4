{
 "cells": [
  {
   "cell_type": "markdown",
   "metadata": {},
   "source": [
    "<a href='https://www.darshan.ac.in/'> <img src='https://www.darshan.ac.in/Content/media/DU_Logo.svg' width=\"250\" height=\"300\"/></a>\n",
    "<pre>\n",
    "<center><b><h1>Python Programming - 2301CS404</b></center>\n",
    "<center><b><h1>Lab - 10</b></center>\n",
    "<center><b><h1>Nency Parmar | 23010101193 | 05/02/2025</b></center>\n",
    "<pre>"
   ]
  },
  {
   "cell_type": "markdown",
   "metadata": {},
   "source": [
    "# Exception Handling"
   ]
  },
  {
   "cell_type": "markdown",
   "metadata": {},
   "source": [
    "### 01) WAP to handle following exceptions:\n",
    "1. ZeroDivisionError\n",
    "2. ValueError\n",
    "3. TypeError\n",
    "#### Note: handle them using separate except blocks and also using single except block too."
   ]
  },
  {
   "cell_type": "code",
   "execution_count": 52,
   "metadata": {},
   "outputs": [
    {
     "name": "stdin",
     "output_type": "stream",
     "text": [
      "Enter 1st Number :  2\n",
      "Enter 2nd Number :  a\n"
     ]
    },
    {
     "name": "stdout",
     "output_type": "stream",
     "text": [
      "Exception : String And Integer Can't Add.\n"
     ]
    }
   ],
   "source": [
    "# ZeroDivisionError \n",
    "try:\n",
    "    a = int(input(\"Enter 1st Number : \"))\n",
    "    b = input(\"Enter 2nd Number : \")\n",
    "    # print(a/b)\n",
    "    print(a+b)\n",
    "# except ZeroDivisionError:\n",
    "#     print(\"Exception : Number Can't Divide By Zero.\")\n",
    "\n",
    "# # ValueError\n",
    "# except ValueError:\n",
    "#     print(\"Exception :  String Can't be Divide.\")\n",
    "\n",
    "# TypeError\n",
    "except TypeError:\n",
    "    print(\"Exception : String And Integer Can't Add.\")"
   ]
  },
  {
   "cell_type": "markdown",
   "metadata": {},
   "source": [
    "### 02)  WAP to handle following exceptions:\n",
    "1. IndexError\n",
    "2. KeyError"
   ]
  },
  {
   "cell_type": "code",
   "execution_count": 66,
   "metadata": {},
   "outputs": [
    {
     "name": "stdin",
     "output_type": "stream",
     "text": [
      "Enter Key :  6\n"
     ]
    },
    {
     "name": "stdout",
     "output_type": "stream",
     "text": [
      "Exception : Key Error\n"
     ]
    }
   ],
   "source": [
    "# try:\n",
    "#     l1 = [10, 20, 30, 40, 50]\n",
    "#     index = int(input(\"Enter an Index: \"))\n",
    "#     print(\"Value at index:\", l1[index])\n",
    "# except IndexError:\n",
    "#     print(\"Exception: Index is Out of Bound.\")\n",
    "\n",
    "# KeyError\n",
    "d1 = {1:'abc',2:'xyz',3:'pqr'}\n",
    "try:\n",
    "    k = int(input(\"Enter Key : \"))\n",
    "    print(d1[k])\n",
    "except KeyError:\n",
    "    print(\"Exception : Key Not Found | Key Error\")"
   ]
  },
  {
   "cell_type": "markdown",
   "metadata": {},
   "source": [
    "### 03) WAP to handle following exceptions:\n",
    "1. FileNotFoundError\n",
    "2. ModuleNotFoundError"
   ]
  },
  {
   "cell_type": "code",
   "execution_count": 92,
   "metadata": {},
   "outputs": [
    {
     "name": "stdin",
     "output_type": "stream",
     "text": [
      "Enter Module Name:  sqrt\n"
     ]
    },
    {
     "name": "stdout",
     "output_type": "stream",
     "text": [
      "Exception: Module Not Found.\n"
     ]
    }
   ],
   "source": [
    "# try:\n",
    "#     file = input(\"Enter File Name : \")\n",
    "#     f = open(file,\"r\")\n",
    "#     print(f.read())\n",
    "#     f.close;\n",
    "# except FileNotFoundError:\n",
    "#     print(\"Exception : File Not Found In Your Directory.\")\n",
    "\n",
    "# ModuleNotFoundError\n",
    "try:\n",
    "    m = input(\"Enter Module Name: \")\n",
    "    __import__(m)\n",
    "    print(\"Module is available.\")\n",
    "except ModuleNotFoundError:\n",
    "    print(\"Exception: Module Not Found.\")"
   ]
  },
  {
   "cell_type": "markdown",
   "metadata": {},
   "source": [
    "### 04) WAP that catches all type of exceptions in a single except block."
   ]
  },
  {
   "cell_type": "code",
   "execution_count": 96,
   "metadata": {},
   "outputs": [
    {
     "name": "stdin",
     "output_type": "stream",
     "text": [
      "Enter a Number :  ha\n"
     ]
    },
    {
     "name": "stdout",
     "output_type": "stream",
     "text": [
      "Exception Occured.\n"
     ]
    }
   ],
   "source": [
    "try:\n",
    "    a = int(input(\"Enter a Number : \"))\n",
    "    print(a)\n",
    "except:\n",
    "    print(\"Exception Occured.\")"
   ]
  },
  {
   "cell_type": "markdown",
   "metadata": {},
   "source": [
    "### 05) WAP to demonstrate else  and finally block."
   ]
  },
  {
   "cell_type": "code",
   "execution_count": 104,
   "metadata": {},
   "outputs": [
    {
     "name": "stdin",
     "output_type": "stream",
     "text": [
      "Enter 1st Number :  2\n",
      "Enter 2nd Number :  0\n"
     ]
    },
    {
     "name": "stdout",
     "output_type": "stream",
     "text": [
      "Zero Divison Exception.\n",
      "Execution Completed Successfully.\n"
     ]
    }
   ],
   "source": [
    "a = int(input(\"Enter 1st Number : \"))\n",
    "b = input(\"Enter 2nd Number : \")\n",
    "try:\n",
    "    print(a/b)\n",
    "except:\n",
    "    print(\"Zero Divison Exception.\")\n",
    "else:\n",
    "    print(\"Divison Successful.\")\n",
    "finally:\n",
    "    print(\"Execution Completed Successfully.\")"
   ]
  },
  {
   "cell_type": "markdown",
   "metadata": {},
   "source": [
    "### 06) Create a short program that prompts the user for a list of grades separated by commas. \n",
    "### Split the string into individual grades and use a list comprehension to convert each string to an integer. \n",
    "### You should use a try statement to inform the user when the values they entered cannot be converted."
   ]
  },
  {
   "cell_type": "code",
   "execution_count": 122,
   "metadata": {},
   "outputs": [
    {
     "name": "stdin",
     "output_type": "stream",
     "text": [
      "Enter a list of grades separated by commas:  a,b,c\n"
     ]
    },
    {
     "name": "stdout",
     "output_type": "stream",
     "text": [
      "Exception : Please enter only numeric values separated by commas.\n"
     ]
    }
   ],
   "source": [
    "try:\n",
    "    grades_input = input(\"Enter a list of grades separated by commas: \")\n",
    "    grades = [int(grade.strip()) for grade in grades_input.split(\",\")]\n",
    "    print(\"List of grades:\", grades)\n",
    "except:\n",
    "    print(\"Exception : Please enter only numeric values separated by commas.\")"
   ]
  },
  {
   "cell_type": "markdown",
   "metadata": {},
   "source": [
    "### 07) WAP to create an udf divide(a,b) that handles ZeroDivisionError."
   ]
  },
  {
   "cell_type": "code",
   "execution_count": 126,
   "metadata": {},
   "outputs": [
    {
     "name": "stdin",
     "output_type": "stream",
     "text": [
      "Enter 1st Number :  2\n",
      "Enter 2nd Number :  0\n"
     ]
    },
    {
     "name": "stdout",
     "output_type": "stream",
     "text": [
      "Exception : Zero Divison Error.\n"
     ]
    }
   ],
   "source": [
    "def divison(a,b):\n",
    "    try:\n",
    "        print(a/b)\n",
    "    except:\n",
    "        print(\"Exception : Zero Divison Error.\")\n",
    "a = int(input(\"Enter 1st Number : \"))\n",
    "b = int(input(\"Enter 2nd Number : \"))\n",
    "divison(a,b)"
   ]
  },
  {
   "cell_type": "markdown",
   "metadata": {},
   "source": [
    "### 08) WAP that gets an age of a person form the user and raises ValueError with error message: \"Enter Valid Age\" :\n",
    "#### If the age is less than 18. \n",
    "#### otherwise print the age."
   ]
  },
  {
   "cell_type": "code",
   "execution_count": 144,
   "metadata": {},
   "outputs": [
    {
     "name": "stdin",
     "output_type": "stream",
     "text": [
      "Enter Age :  a\n"
     ]
    },
    {
     "name": "stdout",
     "output_type": "stream",
     "text": [
      "Exception : Value Error | Please Enter Integer Number.\n"
     ]
    }
   ],
   "source": [
    "try:\n",
    "    age = int(input(\"Enter Age : \"))\n",
    "    if(age < 18):\n",
    "        print(\"InValid Age(Age Must be Grater than 18).\")\n",
    "    else:\n",
    "        print(\"Age is : \",age)\n",
    "except ValueError:\n",
    "    print(\"Exception : Value Error | Please Enter Integer Number.\")"
   ]
  },
  {
   "cell_type": "markdown",
   "metadata": {},
   "source": [
    "### 09) WAP to raise your custom Exception named InvalidUsernameError with the error message : \"Username must be between 5 and 15 characters long\":\n",
    "#### if the given name is having characters less than 5 or greater than 15.\n",
    "#### otherwise print the given username."
   ]
  },
  {
   "cell_type": "code",
   "execution_count": null,
   "metadata": {},
   "outputs": [],
   "source": [
    "try:\n",
    "    name = input(\"Enter Your Name : \")\n",
    "    l = len(name)\n",
    "    if(l > 5 and l < 15):\n",
    "        print(\"Username must be between 5 and 15 characters long.\")\n",
    "    else:\n",
    "        print(name)\n",
    "except:\n",
    "    print(\"Exception : InvalidUsernameError\")"
   ]
  },
  {
   "cell_type": "markdown",
   "metadata": {},
   "source": [
    "### 10) WAP to raise your custom Exception named NegativeNumberError with the error message : \"Cannot calculate the square root of a negative number\" :\n",
    "#### if the given number is negative.\n",
    "#### otherwise print the square root of the given number."
   ]
  },
  {
   "cell_type": "code",
   "execution_count": 5,
   "metadata": {},
   "outputs": [
    {
     "name": "stdin",
     "output_type": "stream",
     "text": [
      "Enter number:  -4\n"
     ]
    },
    {
     "name": "stdout",
     "output_type": "stream",
     "text": [
      "Cannot calculate the square root of a negative number\n"
     ]
    }
   ],
   "source": [
    "import math\n",
    "class NegativeNumberError(Exception):\n",
    "    pass\n",
    "i = int(input(\"Enter number: \"))\n",
    "try:\n",
    "    if i < 0:\n",
    "        raise NegativeNumberError(\"Cannot calculate the square root of a negative number\")\n",
    "    else:\n",
    "        print(math.sqrt(i))\n",
    "except NegativeNumberError as err:\n",
    "    print(err)"
   ]
  }
 ],
 "metadata": {
  "kernelspec": {
   "display_name": "Python 3 (ipykernel)",
   "language": "python",
   "name": "python3"
  },
  "language_info": {
   "codemirror_mode": {
    "name": "ipython",
    "version": 3
   },
   "file_extension": ".py",
   "mimetype": "text/x-python",
   "name": "python",
   "nbconvert_exporter": "python",
   "pygments_lexer": "ipython3",
   "version": "3.12.7"
  }
 },
 "nbformat": 4,
 "nbformat_minor": 4
}
