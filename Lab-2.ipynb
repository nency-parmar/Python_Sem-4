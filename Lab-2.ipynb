{
 "cells": [
  {
   "cell_type": "code",
   "execution_count": null,
   "metadata": {},
   "outputs": [],
   "source": []
  },
  {
   "cell_type": "markdown",
   "metadata": {},
   "source": [
    "\n",
    "<a href='https://www.darshan.ac.in/'> <img src='https://www.darshan.ac.in/Content/media/DU_Logo.svg' width=\"250\" height=\"300\"/></a>\n",
    "<pre>\n",
    "<center><b><h1>Python Programming - 2301CS404</b></center>\n",
    "<center><b><h1>Lab - 2</b></center>    \n",
    "<pre>"
   ]
  },
  {
   "cell_type": "markdown",
   "metadata": {},
   "source": [
    "# if..else.."
   ]
  },
  {
   "cell_type": "markdown",
   "metadata": {},
   "source": [
    "### 01) WAP to check whether the given number is positive or negative."
   ]
  },
  {
   "cell_type": "code",
   "execution_count": 69,
   "metadata": {},
   "outputs": [
    {
     "name": "stdin",
     "output_type": "stream",
     "text": [
      "Enter a Number :  2\n"
     ]
    },
    {
     "name": "stdout",
     "output_type": "stream",
     "text": [
      "2 is Positive Number.\n"
     ]
    }
   ],
   "source": [
    "a = int(input(\"Enter a Number : \"))\n",
    "if(a < 0):\n",
    "    print(a,\"is Negative Number.\")\n",
    "else:\n",
    "    print(a,\"is Positive Number.\")"
   ]
  },
  {
   "cell_type": "markdown",
   "metadata": {},
   "source": [
    "### 02) WAP to check whether the given number is odd or even."
   ]
  },
  {
   "cell_type": "code",
   "execution_count": 71,
   "metadata": {},
   "outputs": [
    {
     "name": "stdin",
     "output_type": "stream",
     "text": [
      "Enter a Number :  2\n"
     ]
    },
    {
     "name": "stdout",
     "output_type": "stream",
     "text": [
      "2 is Even Number.\n"
     ]
    }
   ],
   "source": [
    "a = int(input(\"Enter a Number : \"))\n",
    "if(a%2 == 0 ):\n",
    "    print(a,\"is Even Number.\")\n",
    "else:\n",
    "    print(a,\"is Odd Number.\")"
   ]
  },
  {
   "cell_type": "markdown",
   "metadata": {},
   "source": [
    "### 03) WAP to find out largest number from given two numbers using simple if and ternary operator."
   ]
  },
  {
   "cell_type": "code",
   "execution_count": 73,
   "metadata": {},
   "outputs": [
    {
     "name": "stdin",
     "output_type": "stream",
     "text": [
      "Enter 1st Number :  3\n",
      "Enter 2nd Number :  2\n"
     ]
    },
    {
     "name": "stdout",
     "output_type": "stream",
     "text": [
      "3 is Largest Number.\n"
     ]
    }
   ],
   "source": [
    "a = int(input(\"Enter 1st Number : \"))\n",
    "b = int(input(\"Enter 2nd Number : \"))\n",
    "if(b < a):\n",
    "    print(a,\"is Largest Number.\")\n",
    "else:\n",
    "    print(b,\"is Largest Number.\")"
   ]
  },
  {
   "cell_type": "markdown",
   "metadata": {},
   "source": [
    "04) WAP to find out largest number from given three numbers."
   ]
  },
  {
   "cell_type": "code",
   "execution_count": 12,
   "metadata": {},
   "outputs": [
    {
     "name": "stdin",
     "output_type": "stream",
     "text": [
      "Enter 1st Number :  4\n",
      "Enter 2nd Number :  3\n",
      "Enter 3rd Number :  2\n"
     ]
    },
    {
     "name": "stdout",
     "output_type": "stream",
     "text": [
      "4 is Largest Number.\n"
     ]
    }
   ],
   "source": [
    "a = int(input(\"Enter 1st Number : \"))\n",
    "b = int(input(\"Enter 2nd Number : \"))\n",
    "c = int(input(\"Enter 3rd Number : \"))\n",
    "if(a > b):\n",
    "    print(a,\"is Largest Number.\")\n",
    "elif(b > c):\n",
    "    print(b,\"is Largest Number.\")\n",
    "else:\n",
    "    print(c,\"is Largest Number.\")"
   ]
  },
  {
   "cell_type": "markdown",
   "metadata": {},
   "source": [
    "### 05) WAP to check whether the given year is leap year or not.\n",
    "[If a year can be divisible by 4 but not divisible by 100 then it is leap year but if it is divisible by 400 then it is leap year]"
   ]
  },
  {
   "cell_type": "code",
   "execution_count": 6,
   "metadata": {},
   "outputs": [
    {
     "name": "stdin",
     "output_type": "stream",
     "text": [
      "Enter a Year :  2024\n"
     ]
    },
    {
     "name": "stdout",
     "output_type": "stream",
     "text": [
      "2024 is Leap Year.\n"
     ]
    }
   ],
   "source": [
    "year = int(input(\"Enter a Year : \"))\n",
    "if(year % 4 == 0 and year % 100 != 0 or year % 400 == 0):\n",
    "    print(year,\"is Leap Year.\")\n",
    "else:\n",
    "    print(year,\"is not Leap Year.\")"
   ]
  },
  {
   "cell_type": "code",
   "execution_count": 25,
   "metadata": {},
   "outputs": [
    {
     "name": "stdin",
     "output_type": "stream",
     "text": [
      "Enter a number (1-7) to get the day of the week:  2\n"
     ]
    },
    {
     "name": "stdout",
     "output_type": "stream",
     "text": [
      "Tuesday\n"
     ]
    }
   ],
   "source": [
    "day_number = int(input(\"Enter a number (1-7) to get the day of the week: \"))\n",
    "match day_number:\n",
    "    case 1:\n",
    "        print(\"Monday\")\n",
    "    case 2:\n",
    "        print(\"Tuesday\")\n",
    "    case 3:\n",
    "        print(\"Wednesday\")\n",
    "    case 4:\n",
    "        print(\"Thursday\")\n",
    "    case 5:\n",
    "        print(\"Friday\")\n",
    "    case 6:\n",
    "        print(\"Saturday\")\n",
    "    case 7:\n",
    "        print(\"Sunday\")\n",
    "    case _:\n",
    "        print(\"Invalid number! Please enter a number between 1 and 7.\")"
   ]
  },
  {
   "cell_type": "markdown",
   "metadata": {},
   "source": [
    "### 06) WAP in python to display the name of the day according to the number given by the user."
   ]
  },
  {
   "cell_type": "markdown",
   "metadata": {},
   "source": [
    "### 07) WAP to implement simple calculator which performs (add,sub,mul,div) of two no. based on user input."
   ]
  },
  {
   "cell_type": "code",
   "execution_count": 81,
   "metadata": {},
   "outputs": [
    {
     "name": "stdin",
     "output_type": "stream",
     "text": [
      "Enter 1st Number :  2\n",
      "Enter 2nd Number :  1\n"
     ]
    },
    {
     "name": "stdout",
     "output_type": "stream",
     "text": [
      "Enter 1 for Addition.\n",
      "Enter 2 for Substraction.\n",
      "Enter 3 for Multiplication.\n",
      "Enter 4 for Division.\n"
     ]
    },
    {
     "name": "stdin",
     "output_type": "stream",
     "text": [
      "Enter Your Choice :  4\n"
     ]
    },
    {
     "name": "stdout",
     "output_type": "stream",
     "text": [
      "Result is :  2.0\n"
     ]
    }
   ],
   "source": [
    "a = int(input(\"Enter 1st Number : \"))\n",
    "b = int(input(\"Enter 2nd Number : \"))\n",
    "\n",
    "print(\"Enter 1 for Addition.\")\n",
    "print(\"Enter 2 for Substraction.\")\n",
    "print(\"Enter 3 for Multiplication.\")\n",
    "print(\"Enter 4 for Division.\")\n",
    "choice = int(input(\"Enter Your Choice : \"))\n",
    "if(choice == 1):\n",
    "    sum = a + b\n",
    "    print(\"Result is : \",sum)\n",
    "elif(choice == 2):\n",
    "    sub = a - b\n",
    "    print(\"Result is : \",sub)\n",
    "elif(choice == 3):\n",
    "    multi = a * b\n",
    "    print(\"Result is : \",multi)\n",
    "elif(choice == 4):\n",
    "    div = a / b\n",
    "    print(\"Result is : \",div)\n",
    "else:\n",
    "    print(\"Please Enter Valid Choice!!\")"
   ]
  },
  {
   "cell_type": "markdown",
   "metadata": {},
   "source": [
    "### 08) WAP to read marks of five subjects. Calculate percentage and print class accordingly. \n",
    "Fail below 35 </br>\n",
    "Pass Class between 35 to 45 </br>\n",
    "Second Class</br>\n",
    "between 45 to 60</br>\n",
    "First Class between 60 to 70</br> \n",
    "Distinction if more than 70"
   ]
  },
  {
   "cell_type": "code",
   "execution_count": 85,
   "metadata": {},
   "outputs": [
    {
     "name": "stdin",
     "output_type": "stream",
     "text": [
      "Enter 1st Subject Marks :  98\n",
      "Enter 2nd Subject Marks :  96\n",
      "Enter 3rd Subject Marks :  94\n",
      "Enter 4th Subject Marks :  63\n",
      "Enter 5th Subject Marks :  65\n"
     ]
    },
    {
     "name": "stdout",
     "output_type": "stream",
     "text": [
      "Your Percentage is :  83.2\n",
      "Distinction!!!\n"
     ]
    }
   ],
   "source": [
    "m1 = int(input(\"Enter 1st Subject Marks : \"))\n",
    "m2 = int(input(\"Enter 2nd Subject Marks : \"))\n",
    "m3 = int(input(\"Enter 3rd Subject Marks : \"))\n",
    "m4 = int(input(\"Enter 4th Subject Marks : \"))\n",
    "m5 = int(input(\"Enter 5th Subject Marks : \"))\n",
    "\n",
    "total = 500\n",
    "sum = m1 + m2 + m3 + m4 + m5\n",
    "per = (sum*100)/total\n",
    "print(\"Your Percentage is : \",per)\n",
    "if(per > 70):\n",
    "    print(\"Distinction!!!\")\n",
    "elif(per <= 70 and per > 60):\n",
    "    print(\"First Class!!!\")\n",
    "elif(per <= 60 and per > 45):\n",
    "    print(\"Second Class!!!\")\n",
    "elif(per <= 45 and per > 35):\n",
    "    print(\"Pass!!\")\n",
    "else:\n",
    "    print(\"Fail!!!!\")"
   ]
  },
  {
   "cell_type": "markdown",
   "metadata": {},
   "source": [
    "### 09) Three sides of a triangle are entered through the keyboard, WAP to check whether the triangle is isosceles, equilateral, scalene or right-angled triangle."
   ]
  },
  {
   "cell_type": "code",
   "execution_count": 103,
   "metadata": {},
   "outputs": [
    {
     "name": "stdin",
     "output_type": "stream",
     "text": [
      "Enter 1st Side :  45\n",
      "Enter 2nd Side :  45\n",
      "Enter 3rd Side :  90\n"
     ]
    },
    {
     "name": "stdout",
     "output_type": "stream",
     "text": [
      "Triangle is Isosceles.\n"
     ]
    }
   ],
   "source": [
    "import math\n",
    "s1 = int(input(\"Enter 1st Side : \"))\n",
    "s2 = int(input(\"Enter 2nd Side : \"))\n",
    "s3 = int(input(\"Enter 3rd Side : \"))\n",
    "\n",
    "power = (math.pow(s1,2) + math.pow(s2,2)) == math.pow(s3,2)\n",
    "power1 = (math.pow(s2,2) + math.pow(s3,2)) == math.pow(s1,2)\n",
    "power2 = (math.pow(s1,2) + math.pow(s3,2)) == math.pow(s2,2)\n",
    "\n",
    "if(s1 == s2 and s2 == s3 and s3 == s1):\n",
    "    print(\"Triangle is Equilateral.\")\n",
    "elif(s1 == s2 or s2 == s3 or s3 == s1):\n",
    "    print(\"Triangle is Isosceles.\")\n",
    "elif(power or power1 or power2):\n",
    "    print(\"Triangle is Right-Angled.\")\n",
    "elif(s1 != s2 and s2 != s3 and s3 != s1):\n",
    "    print(\"Triangle is Scalene.\")"
   ]
  },
  {
   "cell_type": "markdown",
   "metadata": {},
   "source": [
    "### 10) WAP to find the second largest number among three user input numbers."
   ]
  },
  {
   "cell_type": "code",
   "execution_count": 3,
   "metadata": {},
   "outputs": [
    {
     "name": "stdin",
     "output_type": "stream",
     "text": [
      "Enter 1st Number:  16\n",
      "Enter 2nd Number:  10\n",
      "Enter 3rd Number:  8\n"
     ]
    },
    {
     "name": "stdout",
     "output_type": "stream",
     "text": [
      "10 is the Second Largest.\n"
     ]
    }
   ],
   "source": [
    "a = int(input(\"Enter 1st Number: \"))\n",
    "b = int(input(\"Enter 2nd Number: \"))\n",
    "c = int(input(\"Enter 3rd Number: \"))\n",
    "\n",
    "# Check for the second largest number\n",
    "if (a > b and a < c) or (a > c and a < b):\n",
    "    print(a, \"is the Second Largest.\")\n",
    "elif (b > a and b < c) or (b > c and b < a):\n",
    "    print(b, \"is the Second Largest.\")\n",
    "else:\n",
    "    print(c, \"is the Second Largest.\")"
   ]
  },
  {
   "cell_type": "markdown",
   "metadata": {},
   "source": [
    "### 11) WAP to calculate electricity bill based on following criteria. Which takes the unit from the user.\n",
    "a. First 1 to 50 units – Rs. 2.60/unit</br>\n",
    "b. Next 50 to 100 units – Rs. 3.25/unit</br>\n",
    "c. Next 100 to 200 units – Rs. 5.26/unit</br>\n",
    "d. above 200 units – Rs. 8.45/unit"
   ]
  },
  {
   "cell_type": "code",
   "execution_count": 9,
   "metadata": {},
   "outputs": [
    {
     "name": "stdin",
     "output_type": "stream",
     "text": [
      "Enter the Electricity Units consumed:  230\n"
     ]
    },
    {
     "name": "stdout",
     "output_type": "stream",
     "text": [
      "The total electricity bill for {units} units is :  1072.0\n"
     ]
    }
   ],
   "source": [
    "units = int(input(\"Enter the Electricity Units consumed: \"))\n",
    "if(units <= 50):\n",
    "    bill = units * 2.60\n",
    "elif(units <= 100):\n",
    "    bill = (50 * 2.60) + ((units - 50) * 3.25)\n",
    "elif(units <= 200):\n",
    "    bill = (50 * 2.60) + (50 * 3.25) + ((units - 100) * 5.26)\n",
    "else:\n",
    "    bill = (50 * 2.60) + (50 * 3.25) + (100 * 5.26) + ((units - 200) * 8.45)\n",
    "print(\"The total electricity bill for {units} units is : \",bill)"
   ]
  }
 ],
 "metadata": {
  "kernelspec": {
   "display_name": "Python 3 (ipykernel)",
   "language": "python",
   "name": "python3"
  },
  "language_info": {
   "codemirror_mode": {
    "name": "ipython",
    "version": 3
   },
   "file_extension": ".py",
   "mimetype": "text/x-python",
   "name": "python",
   "nbconvert_exporter": "python",
   "pygments_lexer": "ipython3",
   "version": "3.12.7"
  }
 },
 "nbformat": 4,
 "nbformat_minor": 4
}
