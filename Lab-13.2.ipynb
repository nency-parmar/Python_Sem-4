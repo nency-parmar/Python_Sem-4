{
 "cells": [
  {
   "cell_type": "markdown",
   "metadata": {},
   "source": [
    "<a href='https://www.darshan.ac.in/'> <img src='https://www.darshan.ac.in/Content/media/DU_Logo.svg' width=\"250\" height=\"300\"/></a>\n",
    "<pre>\n",
    "<center><b><h1>Python Programming - 2301CS404</b></center>\n",
    "<center><b><h1>Lab - 13</b></center>  \n",
    "<center><b><h1>Nency Parmar | 23010101193 | 11/03/2025</b></center> \n",
    "<pre>"
   ]
  },
  {
   "cell_type": "markdown",
   "metadata": {},
   "source": [
    "## Continued.."
   ]
  },
  {
   "cell_type": "markdown",
   "metadata": {},
   "source": [
    "### 10) Calculate area of a ractangle using object as an argument to a method."
   ]
  },
  {
   "cell_type": "code",
   "execution_count": 14,
   "metadata": {},
   "outputs": [
    {
     "name": "stdout",
     "output_type": "stream",
     "text": [
      "Area of Rectangle is :  600\n"
     ]
    }
   ],
   "source": [
    "class Rectangle:\n",
    "    area = 0\n",
    "    def __init__(self,h,w):\n",
    "        self.height = h\n",
    "        self.width = w\n",
    "\n",
    "    def area(self):\n",
    "        area = self.height * self.width\n",
    "        print(\"Area of Rectangle is : \",area)\n",
    "\n",
    "r1 = Rectangle(20,30)\n",
    "r1.area()"
   ]
  },
  {
   "cell_type": "markdown",
   "metadata": {},
   "source": [
    "### 11) Calculate the area of a square. \n",
    "### Include a Constructor, a method to calculate area named area() and a method named output() that prints the output and is invoked by area()."
   ]
  },
  {
   "cell_type": "code",
   "execution_count": 25,
   "metadata": {},
   "outputs": [
    {
     "name": "stdout",
     "output_type": "stream",
     "text": [
      "Area of Square is :  900\n"
     ]
    }
   ],
   "source": [
    "class Square:\n",
    "    def __init__(self,height):\n",
    "        self.height = height\n",
    "\n",
    "    def area(self):\n",
    "        area = self.height * self.height\n",
    "        self.output(area)\n",
    "\n",
    "    def output(self,area):\n",
    "        print(\"Area of Square is : \",area)\n",
    "\n",
    "s1 = Square(30)\n",
    "s1.area()"
   ]
  },
  {
   "cell_type": "markdown",
   "metadata": {},
   "source": [
    "### 12) Calculate the area of a rectangle. \n",
    "### Include a Constructor, a method to calculate area named area() and a method named output() that prints the output and is invoked by area().\n",
    "### Also define a class method that compares the two sides of reactangle. An object is instantiated only if the two sides are different; otherwise a message should be displayed : THIS IS SQUARE."
   ]
  },
  {
   "cell_type": "code",
   "execution_count": 33,
   "metadata": {},
   "outputs": [
    {
     "name": "stdout",
     "output_type": "stream",
     "text": [
      "This is Square!!!\n"
     ]
    }
   ],
   "source": [
    "class rectangle:\n",
    "    def __init__(self,height,width):\n",
    "        self.height = height\n",
    "        self.width = width\n",
    "\n",
    "    def area(self):\n",
    "        if(self.height == self.width):\n",
    "            print(\"This is Square!!!\")\n",
    "        else:\n",
    "            area = self.height * self.width\n",
    "            self.output(area)\n",
    "\n",
    "    def output(self,area):\n",
    "        print(\"Area of Rectangle is : \",area)\n",
    "\n",
    "s1 = rectangle(30,30)\n",
    "s1.area()"
   ]
  },
  {
   "cell_type": "markdown",
   "metadata": {},
   "source": [
    "### 13) Define a class Square having a private attribute \"side\". \n",
    "### Implement get_side and set_side methods to accees the private attribute from outside of the class."
   ]
  },
  {
   "cell_type": "code",
   "execution_count": 41,
   "metadata": {},
   "outputs": [
    {
     "name": "stdin",
     "output_type": "stream",
     "text": [
      "Enter Side of Square :  20\n"
     ]
    },
    {
     "name": "stdout",
     "output_type": "stream",
     "text": [
      "Side of Square is :  20\n"
     ]
    }
   ],
   "source": [
    "class square:\n",
    "    def __init__(self):\n",
    "        pass\n",
    "\n",
    "    def get_side(self):\n",
    "        self.__side = int(input(\"Enter Side of Square : \"))\n",
    "\n",
    "    def set_side(self):\n",
    "        print(\"Side of Square is : \",self.__side)\n",
    "     \n",
    "\n",
    "s1 = square()\n",
    "s1.get_side()\n",
    "s1.set_side()"
   ]
  },
  {
   "cell_type": "markdown",
   "metadata": {},
   "source": [
    "### 14) Create a class Profit that has a method named getProfit that accepts profit from the user.\n",
    "### Create a class Loss that has a method named getLoss that accepts loss from the user.\n",
    "### Create a class BalanceSheet that inherits from both classes Profit and Loss and calculates the balanace. It has two methods getBalance() and printBalance()."
   ]
  },
  {
   "cell_type": "code",
   "execution_count": 73,
   "metadata": {},
   "outputs": [
    {
     "name": "stdin",
     "output_type": "stream",
     "text": [
      "Enter Profit :  12\n",
      "Enter Loss :  1\n"
     ]
    },
    {
     "name": "stdout",
     "output_type": "stream",
     "text": [
      "Balance is :  11\n"
     ]
    }
   ],
   "source": [
    "class Profit:\n",
    "    def __init__(self):\n",
    "        self.profit = 0\n",
    "\n",
    "    def get_profit(self):\n",
    "        self.profit = int(input(\"Enter Profit : \"))\n",
    "\n",
    "class Loss:\n",
    "    def __init__(self):\n",
    "        self.loss = 0\n",
    "\n",
    "    def get_loss(self):\n",
    "        self.loss = int(input(\"Enter Loss : \"))\n",
    "\n",
    "\n",
    "class BalanceSheet(Profit,Loss):\n",
    "    def __init__(self):\n",
    "        Profit.__init__(self)\n",
    "        Loss.__init__(self)\n",
    "        \n",
    "    \n",
    "    def getBalance(self):\n",
    "        self.balance = self.profit - self.loss\n",
    "\n",
    "    def printBalance(self):\n",
    "        print(\"Balance is : \",self.balance)\n",
    "\n",
    "b1 = BalanceSheet()\n",
    "b1.get_profit()\n",
    "b1.get_loss()\n",
    "b1.getBalance()\n",
    "b1.printBalance()"
   ]
  },
  {
   "attachments": {},
   "cell_type": "markdown",
   "metadata": {},
   "source": [
    "### 15) WAP to demonstrate all types of inheritance."
   ]
  },
  {
   "cell_type": "code",
   "execution_count": 83,
   "metadata": {},
   "outputs": [
    {
     "name": "stdout",
     "output_type": "stream",
     "text": [
      "Class A\n",
      "Class B\n"
     ]
    }
   ],
   "source": [
    "# Single Inheritance\n",
    "\n",
    "class A:\n",
    "    def printA(self):\n",
    "        print(\"Class A\")\n",
    "\n",
    "class B(A):\n",
    "    def printB(self):\n",
    "        print(\"Class B\")\n",
    "\n",
    "ob1 = B()\n",
    "ob1.printA()\n",
    "ob1.printB()"
   ]
  },
  {
   "cell_type": "code",
   "execution_count": 86,
   "metadata": {},
   "outputs": [
    {
     "name": "stdout",
     "output_type": "stream",
     "text": [
      "Device can run\n",
      "Run on electricity\n",
      "Bat makes sound\n"
     ]
    }
   ],
   "source": [
    "# Multiple Inheritance\n",
    "\n",
    "class Device:\n",
    "    def print(self):\n",
    "        print(\"Device can run\")\n",
    "\n",
    "class EleDevice:\n",
    "    def print1(self):\n",
    "        print(\"Run on electricity\")\n",
    "\n",
    "class Laptop(Device, EleDevice):\n",
    "    def print2(self):\n",
    "        print(\"Bat makes sound\")\n",
    "\n",
    "laptop = Laptop()\n",
    "laptop.print()\n",
    "laptop.print1()\n",
    "laptop.print2()"
   ]
  },
  {
   "cell_type": "code",
   "execution_count": 88,
   "metadata": {},
   "outputs": [
    {
     "name": "stdout",
     "output_type": "stream",
     "text": [
      "Vehicle moves\n",
      "Car is driven\n",
      "Electric car is charging\n"
     ]
    }
   ],
   "source": [
    "# Multilevel Inheritance\n",
    "\n",
    "class Vehicle:\n",
    "    def move(self):\n",
    "        print(\"Vehicle moves\")\n",
    "\n",
    "class Car(Vehicle):\n",
    "    def drive(self):\n",
    "        print(\"Car is driven\")\n",
    "\n",
    "class ElectricCar(Car):\n",
    "    def charge(self):\n",
    "        print(\"Electric car is charging\")\n",
    "\n",
    "ecar = ElectricCar()\n",
    "ecar.move()\n",
    "ecar.drive()\n",
    "ecar.charge()"
   ]
  },
  {
   "cell_type": "code",
   "execution_count": 90,
   "metadata": {},
   "outputs": [
    {
     "name": "stdout",
     "output_type": "stream",
     "text": [
      "This is a parent class\n",
      "This is Child1 class\n",
      "This is a parent class\n",
      "This is Child2 class\n"
     ]
    }
   ],
   "source": [
    "# Hierarchical Inheritance\n",
    "\n",
    "class Parent:\n",
    "    def display(self):\n",
    "        print(\"This is a parent class\")\n",
    "\n",
    "class Child1(Parent):\n",
    "    def show1(self):\n",
    "        print(\"This is Child1 class\")\n",
    "\n",
    "class Child2(Parent):\n",
    "    def show2(self):\n",
    "        print(\"This is Child2 class\")\n",
    "\n",
    "child1 = Child1()\n",
    "child1.display()\n",
    "child1.show1()\n",
    "\n",
    "child2 = Child2()\n",
    "child2.display()\n",
    "child2.show2()"
   ]
  },
  {
   "cell_type": "code",
   "execution_count": 92,
   "metadata": {},
   "outputs": [
    {
     "name": "stdout",
     "output_type": "stream",
     "text": [
      "Method of class A\n",
      "Method of class B\n",
      "Method of class C\n",
      "Method of class D\n"
     ]
    }
   ],
   "source": [
    "# Hybrid Inheritance\n",
    "\n",
    "class A:\n",
    "    def methodA(self):\n",
    "        print(\"Method of class A\")\n",
    "\n",
    "class B(A):\n",
    "    def methodB(self):\n",
    "        print(\"Method of class B\")\n",
    "\n",
    "class C(A):\n",
    "    def methodC(self):\n",
    "        print(\"Method of class C\")\n",
    "\n",
    "class D(B, C):\n",
    "    def methodD(self):\n",
    "        print(\"Method of class D\")\n",
    "\n",
    "d = D()\n",
    "d.methodA()\n",
    "d.methodB()\n",
    "d.methodC()\n",
    "d.methodD()"
   ]
  },
  {
   "cell_type": "markdown",
   "metadata": {},
   "source": [
    "### 16) Create a Person class with a constructor that takes two arguments name and age. \n",
    "### Create a child class Employee that inherits from Person and adds a new attribute salary. \n",
    "### Override the __init__ method in Employee to call the parent class's __init__ method using the super() and then initialize the salary attribute."
   ]
  },
  {
   "cell_type": "code",
   "execution_count": 96,
   "metadata": {},
   "outputs": [
    {
     "name": "stdout",
     "output_type": "stream",
     "text": [
      "Name :  ABCD\n",
      "Age :  19\n",
      "Salary :  20000\n"
     ]
    }
   ],
   "source": [
    "class Person:\n",
    "    def __init__(self,name,age):\n",
    "        self.Name = name\n",
    "        self.Age = age\n",
    "\n",
    "    def display_info(self):\n",
    "        print(\"Name : \",self.Name)\n",
    "        print(\"Age : \",self.Age)\n",
    "\n",
    "class Employee(Person):\n",
    "    def __init__(self, name, age, salary):\n",
    "        super().__init__(name, age)\n",
    "        self.salary = salary\n",
    "        \n",
    "    def display_info(self):\n",
    "        super().display_info()\n",
    "        print(\"Salary : \",self.salary)\n",
    "\n",
    "e1 = Employee('ABCD',19,20000)\n",
    "e1.display_info()"
   ]
  },
  {
   "cell_type": "markdown",
   "metadata": {},
   "source": [
    "### 17) Create a Shape class with a draw method that is not implemented. \n",
    "### Create three child classes Rectangle, Circle, and Triangle that implement the draw method with their respective drawing behaviors. \n",
    "### Create a list of Shape objects that includes one instance of each child class, and then iterate through the list and call the draw method on each object."
   ]
  },
  {
   "cell_type": "code",
   "execution_count": 100,
   "metadata": {},
   "outputs": [
    {
     "name": "stdout",
     "output_type": "stream",
     "text": [
      "Drawing Triangle...\n"
     ]
    }
   ],
   "source": [
    "from abc import ABC,abstractmethod\n",
    "class Shape:\n",
    "    def __init__(self):\n",
    "        pass\n",
    "\n",
    "    @abstractmethod\n",
    "    def Draw(self):\n",
    "        pass\n",
    "\n",
    "class Rectangle(Shape):\n",
    "    def __init__(self):\n",
    "        pass\n",
    "    def Draw(self):\n",
    "        print(\"Drawing Rectangle...\")\n",
    "\n",
    "class Circle(Shape):\n",
    "    def __init__(self):\n",
    "        pass\n",
    "    def Draw(self):\n",
    "        print(\"Drawing Circle...\")\n",
    "\n",
    "class Triangle(Shape):\n",
    "    def __init__(self):\n",
    "        pass\n",
    "    def Draw(self):\n",
    "        print(\"Drawing Triangle...\")\n",
    "\n",
    "t1 = Triangle()\n",
    "t1.Draw()"
   ]
  }
 ],
 "metadata": {
  "kernelspec": {
   "display_name": "Python 3 (ipykernel)",
   "language": "python",
   "name": "python3"
  },
  "language_info": {
   "codemirror_mode": {
    "name": "ipython",
    "version": 3
   },
   "file_extension": ".py",
   "mimetype": "text/x-python",
   "name": "python",
   "nbconvert_exporter": "python",
   "pygments_lexer": "ipython3",
   "version": "3.12.7"
  }
 },
 "nbformat": 4,
 "nbformat_minor": 4
}
