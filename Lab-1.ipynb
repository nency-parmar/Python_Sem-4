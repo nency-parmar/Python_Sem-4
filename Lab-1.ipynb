{
 "cells": [
  {
   "cell_type": "markdown",
   "metadata": {},
   "source": [
    "<a href='https://www.darshan.ac.in/'> <img src='https://www.darshan.ac.in/Content/media/DU_Logo.svg' width=\"250\" height=\"10\"/></a>\n",
    "<pre>\n",
    "<center><b><h1>Python Programming - 2301CS404</b></center>\n",
    "<center><b><h1>Lab - 1</b></center>    \n",
    "<pre>"
   ]
  },
  {
   "cell_type": "markdown",
   "metadata": {},
   "source": [
    "### 01) WAP to print “Hello World”"
   ]
  },
  {
   "cell_type": "code",
   "execution_count": 12,
   "metadata": {},
   "outputs": [
    {
     "name": "stdout",
     "output_type": "stream",
     "text": [
      "Hello World\n"
     ]
    }
   ],
   "source": [
    "print(\"Hello World\")"
   ]
  },
  {
   "cell_type": "markdown",
   "metadata": {},
   "source": [
    "### 02) WAP to print addition of two numbers with and without using input()."
   ]
  },
  {
   "cell_type": "code",
   "execution_count": 45,
   "metadata": {},
   "outputs": [
    {
     "name": "stdout",
     "output_type": "stream",
     "text": [
      "5\n"
     ]
    }
   ],
   "source": [
    "a = 3\n",
    "b = 2\n",
    "print(a+b)"
   ]
  },
  {
   "cell_type": "code",
   "execution_count": 47,
   "metadata": {},
   "outputs": [
    {
     "name": "stdin",
     "output_type": "stream",
     "text": [
      "Enter First Value :  1\n",
      "Enter Second Value :  2\n"
     ]
    },
    {
     "name": "stdout",
     "output_type": "stream",
     "text": [
      "Sum of 2 Number is :  3\n"
     ]
    }
   ],
   "source": [
    "# a = 3\n",
    "# b = 2\n",
    "# print(a+b)\n",
    "\n",
    "x = int(input(\"Enter First Value : \"))\n",
    "y = int(input(\"Enter Second Value : \"))\n",
    "print(\"Sum of 2 Number is : \",(x+y))"
   ]
  },
  {
   "cell_type": "markdown",
   "metadata": {},
   "source": [
    "### 03) WAP to check the type of the variable."
   ]
  },
  {
   "cell_type": "code",
   "execution_count": 49,
   "metadata": {},
   "outputs": [
    {
     "name": "stdout",
     "output_type": "stream",
     "text": [
      "<class 'float'>\n",
      "<class 'str'>\n"
     ]
    }
   ],
   "source": [
    "a = 1.2\n",
    "b = \"Darshan University\"\n",
    "print(type(a))\n",
    "print(type(b))"
   ]
  },
  {
   "cell_type": "markdown",
   "metadata": {},
   "source": [
    "### 04) WAP to calculate simple interest."
   ]
  },
  {
   "cell_type": "code",
   "execution_count": 1,
   "metadata": {},
   "outputs": [
    {
     "name": "stdin",
     "output_type": "stream",
     "text": [
      "Enter the principal amount:  20\n",
      "Enter the rate of interest:  32\n",
      "Enter the time period in years:  10\n"
     ]
    },
    {
     "name": "stdout",
     "output_type": "stream",
     "text": [
      "64.0\n"
     ]
    }
   ],
   "source": [
    "p = float(input(\"Enter the principal amount: \"))\n",
    "r = float(input(\"Enter the rate of interest: \"))\n",
    "t = float(input(\"Enter the time period in years: \"))\n",
    "interest = (p*r*t)/100\n",
    "print(interest)"
   ]
  },
  {
   "cell_type": "markdown",
   "metadata": {},
   "source": [
    "### 05) WAP to calculate area and perimeter of a circle."
   ]
  },
  {
   "cell_type": "code",
   "execution_count": 63,
   "metadata": {},
   "outputs": [
    {
     "name": "stdout",
     "output_type": "stream",
     "text": [
      "Area =  314.1592653589793\n",
      "Perimeter =  62.83185307179586\n"
     ]
    }
   ],
   "source": [
    "import math\n",
    "r = 10\n",
    "print(\"Area = \",math.pi*r*r)\n",
    "print(\"Perimeter = \",2*math.pi*r)"
   ]
  },
  {
   "cell_type": "markdown",
   "metadata": {},
   "source": [
    "### 06) WAP to calculate area of a triangle."
   ]
  },
  {
   "cell_type": "code",
   "execution_count": 3,
   "metadata": {},
   "outputs": [
    {
     "name": "stdin",
     "output_type": "stream",
     "text": [
      "Enter the base of the triangle:  20\n",
      "Enter the height of the triangle:  10\n"
     ]
    },
    {
     "name": "stdout",
     "output_type": "stream",
     "text": [
      "Area Of Triangle =  100.0\n"
     ]
    }
   ],
   "source": [
    "b = float(input(\"Enter the base of the triangle: \"))\n",
    "h = float(input(\"Enter the height of the triangle: \"))\n",
    "print(\"Area Of Triangle = \",(1/2*b*h))"
   ]
  },
  {
   "cell_type": "markdown",
   "metadata": {},
   "source": [
    "### 07) WAP to compute quotient and remainder."
   ]
  },
  {
   "cell_type": "code",
   "execution_count": 61,
   "metadata": {},
   "outputs": [
    {
     "name": "stdin",
     "output_type": "stream",
     "text": [
      "Enter 1st Number :  7\n",
      "Enter 2nd Number :  3\n"
     ]
    },
    {
     "name": "stdout",
     "output_type": "stream",
     "text": [
      "Remainder =  1\n"
     ]
    }
   ],
   "source": [
    "a = int(input(\"Enter 1st Number : \"))\n",
    "b = int(input(\"Enter 2nd Number : \"))\n",
    "print(\"Remainder = \",a%b)"
   ]
  },
  {
   "cell_type": "markdown",
   "metadata": {},
   "source": [
    "### 08) WAP to convert degree into Fahrenheit and vice versa."
   ]
  },
  {
   "cell_type": "code",
   "execution_count": 7,
   "metadata": {},
   "outputs": [
    {
     "name": "stdout",
     "output_type": "stream",
     "text": [
      "Select conversion type:\n",
      "Enter 1 For Celsius to Fahrenheit\n",
      "Enter 2 For Fahrenheit to Celsius\n"
     ]
    },
    {
     "name": "stdin",
     "output_type": "stream",
     "text": [
      "Enter Your Choice (1 or 2):  2\n",
      "Enter temperature in Fahrenheit:  23\n"
     ]
    },
    {
     "name": "stdout",
     "output_type": "stream",
     "text": [
      "Celsius :  -5.0\n"
     ]
    }
   ],
   "source": [
    "print(\"Select conversion type:\")\n",
    "print(\"Enter 1 For Celsius to Fahrenheit\")\n",
    "print(\"Enter 2 For Fahrenheit to Celsius\")\n",
    "\n",
    "choice = int(input(\"Enter Your Choice (1 or 2): \"))\n",
    "if choice == 1:\n",
    "    cel = float(input(\"Enter temperature in Celsius: \"))\n",
    "    far = (cel * 9/5) + 32\n",
    "    print(\"Fahrenheit : \",far)\n",
    "elif choice == 2:\n",
    "    far = float(input(\"Enter temperature in Fahrenheit: \"))\n",
    "    cel = (far - 32) * 5/9\n",
    "    print(\"Celsius : \",cel)\n",
    "else:\n",
    "    print(\"Invalid Choice\")"
   ]
  },
  {
   "cell_type": "markdown",
   "metadata": {},
   "source": [
    "### 09) WAP to find the distance between two points in 2-D space."
   ]
  },
  {
   "cell_type": "code",
   "execution_count": 11,
   "metadata": {},
   "outputs": [
    {
     "name": "stdin",
     "output_type": "stream",
     "text": [
      "Enter x1 for first point 1\n",
      "Enter y1 for first point 2\n",
      "Enter x2 for second point 1\n",
      "Enter y2 for second point 3\n"
     ]
    },
    {
     "name": "stdout",
     "output_type": "stream",
     "text": [
      "distance is : -1.0\n"
     ]
    }
   ],
   "source": [
    "x1 = float(input(\"Enter x1 for first point\"))\n",
    "y1 = float(input(\"Enter y1 for first point\"))\n",
    "x2 = float(input(\"Enter x2 for second point\"))\n",
    "y2 = float(input(\"Enter y2 for second point\"))\n",
    "\n",
    "distance = (((x1-x2)*2)+((y1-y2)*2))**1/2\n",
    "print(\"distance is :\",distance)"
   ]
  },
  {
   "cell_type": "markdown",
   "metadata": {},
   "source": [
    "### 10) WAP to print sum of n natural numbers."
   ]
  },
  {
   "cell_type": "code",
   "execution_count": 11,
   "metadata": {},
   "outputs": [
    {
     "name": "stdin",
     "output_type": "stream",
     "text": [
      "Enter a number:  4\n"
     ]
    },
    {
     "name": "stdout",
     "output_type": "stream",
     "text": [
      "The Sum of First 4 natural numbers is: 10\n"
     ]
    }
   ],
   "source": [
    "n = int(input(\"Enter a number: \"))\n",
    "sum_of_n = n * (n + 1) // 2\n",
    "print(\"The Sum of First \",n ,\"natural numbers is: \",sum_of_n)"
   ]
  },
  {
   "cell_type": "markdown",
   "metadata": {},
   "source": [
    "### 11) WAP to print sum of square of n natural numbers."
   ]
  },
  {
   "cell_type": "code",
   "execution_count": 13,
   "metadata": {},
   "outputs": [
    {
     "name": "stdin",
     "output_type": "stream",
     "text": [
      "Enter a number:  3\n"
     ]
    },
    {
     "name": "stdout",
     "output_type": "stream",
     "text": [
      "The Sum of Squares of First 3 natural numbers is: 14\n"
     ]
    }
   ],
   "source": [
    "n = int(input(\"Enter a number: \"))\n",
    "sum_of_squares = (n * (n + 1) * (2 * n + 1)) // 6\n",
    "print(\"The Sum of Squares of First \",n,\" natural numbers is: \",sum_of_squares)"
   ]
  },
  {
   "cell_type": "markdown",
   "metadata": {},
   "source": [
    "### 12) WAP to concate the first and last name of the student."
   ]
  },
  {
   "cell_type": "code",
   "execution_count": 15,
   "metadata": {},
   "outputs": [
    {
     "name": "stdin",
     "output_type": "stream",
     "text": [
      "Enter the first name of the student:  Nency\n",
      "Enter the last name of the student:  Parmar\n"
     ]
    },
    {
     "name": "stdout",
     "output_type": "stream",
     "text": [
      "Full Name Of Student is :  Nency Parmar\n"
     ]
    }
   ],
   "source": [
    "fname = input(\"Enter the First Name of the Student: \")\n",
    "lname = input(\"Enter the Last Name of the Student: \")\n",
    "\n",
    "print(\"Full Name Of Student is : \",fname+\" \"+lname)"
   ]
  },
  {
   "cell_type": "markdown",
   "metadata": {},
   "source": [
    "### 13) WAP to swap two numbers."
   ]
  },
  {
   "cell_type": "code",
   "execution_count": 69,
   "metadata": {},
   "outputs": [
    {
     "name": "stdin",
     "output_type": "stream",
     "text": [
      "Enter 1st Number :  2\n",
      "Enter 2nd Number :  3\n"
     ]
    },
    {
     "name": "stdout",
     "output_type": "stream",
     "text": [
      "Before Swap :  2 3\n",
      "After Swap :  3 2\n"
     ]
    }
   ],
   "source": [
    "a = int(input(\"Enter 1st Number : \"))\n",
    "b = int(input(\"Enter 2nd Number : \"))\n",
    "print(\"Before Swap : \",a,b)\n",
    "temp = a\n",
    "a = b\n",
    "b = temp\n",
    "print(\"After Swap : \",a,b)"
   ]
  },
  {
   "cell_type": "markdown",
   "metadata": {},
   "source": [
    "### 14) WAP to get the distance from user into kilometer, and convert it into meter, feet, inches and centimeter."
   ]
  },
  {
   "cell_type": "code",
   "execution_count": 1,
   "metadata": {},
   "outputs": [
    {
     "name": "stdout",
     "output_type": "stream",
     "text": [
      "The history saving thread hit an unexpected error (OperationalError('attempt to write a readonly database')).History will not be written to the database.\n"
     ]
    },
    {
     "name": "stdin",
     "output_type": "stream",
     "text": [
      "Enter the distance in kilometers:  1\n"
     ]
    },
    {
     "name": "stdout",
     "output_type": "stream",
     "text": [
      "Distance in meters: 1000.0\n",
      "Distance in feet: 3280.84\n",
      "Distance in inches: 39370.1\n",
      "Distance in centimeters: 100000.0\n"
     ]
    }
   ],
   "source": [
    "km = float(input(\"Enter the distance in kilometers: \"))\n",
    "\n",
    "m = km * 1000\n",
    "feet = km * 3280.84\n",
    "inch = km * 39370.1\n",
    "cm = km * 100000\n",
    "print(\"Distance in meters:\", m)\n",
    "print(\"Distance in feet:\", feet)\n",
    "print(\"Distance in inches:\", inch)\n",
    "print(\"Distance in centimeters:\", cm)"
   ]
  },
  {
   "cell_type": "markdown",
   "metadata": {},
   "source": [
    "### 15) WAP to get day, month and year from the user and print the date in the given format: 23-11-2024."
   ]
  },
  {
   "cell_type": "code",
   "execution_count": 7,
   "metadata": {},
   "outputs": [
    {
     "name": "stdin",
     "output_type": "stream",
     "text": [
      "Enter the day (1-31):  10\n",
      "Enter the month (1-12):  06\n",
      "Enter the year:  2004\n"
     ]
    },
    {
     "name": "stdout",
     "output_type": "stream",
     "text": [
      "The date is:  10 - 6 - 2004\n"
     ]
    }
   ],
   "source": [
    "day = int(input(\"Enter the day (1-31): \"))\n",
    "month = int(input(\"Enter the month (1-12): \"))\n",
    "year = int(input(\"Enter the year: \"))\n",
    "if 1 <= day <= 31 and 1 <= month <= 12 and year > 0:\n",
    "    print(\"The date is: \",day,\"-\",month,\"-\",year)\n",
    "else:\n",
    "    print(\"Invalid date! Please enter valid day, month, and year.\")"
   ]
  }
 ],
 "metadata": {
  "kernelspec": {
   "display_name": "Python 3 (ipykernel)",
   "language": "python",
   "name": "python3"
  },
  "language_info": {
   "codemirror_mode": {
    "name": "ipython",
    "version": 3
   },
   "file_extension": ".py",
   "mimetype": "text/x-python",
   "name": "python",
   "nbconvert_exporter": "python",
   "pygments_lexer": "ipython3",
   "version": "3.12.7"
  },
  "vscode": {
   "interpreter": {
    "hash": "31f2aee4e71d21fbe5cf8b01ff0e069b9275f58929596ceb00d14d90e3e16cd6"
   }
  }
 },
 "nbformat": 4,
 "nbformat_minor": 4
}
