{
 "cells": [
  {
   "attachments": {},
   "cell_type": "markdown",
   "metadata": {},
   "source": [
    "<a href='https://www.darshan.ac.in/'> <img src='https://www.darshan.ac.in/Content/media/DU_Logo.svg' width=\"250\" height=\"300\"/></a>\n",
    "<pre>\n",
    "<center><b><h1>Python Programming - 2301CS404</b></center>\n",
    "<center><b><h1>Lab - 11</b></center> \n",
    "<center><b><h1>Nency Parmar | 23010101193 | 12/02/2025</b></center>  \n",
    "<pre>"
   ]
  },
  {
   "cell_type": "markdown",
   "metadata": {},
   "source": [
    "# Modules"
   ]
  },
  {
   "cell_type": "markdown",
   "metadata": {},
   "source": [
    "### 01) WAP to create Calculator module which defines functions like add, sub,mul and div. \n",
    "### Create another .py file that uses the functions available in Calculator module."
   ]
  },
  {
   "cell_type": "code",
   "execution_count": 17,
   "metadata": {},
   "outputs": [
    {
     "name": "stdin",
     "output_type": "stream",
     "text": [
      "Enter 1st Number :  2\n",
      "Enter 2nd Number :  3\n"
     ]
    },
    {
     "name": "stdout",
     "output_type": "stream",
     "text": [
      "Addition of 2 Numbers :  5\n",
      "Substraction of 2 Numbers :  -1\n",
      "Multiplication of 2 Numbers :  6\n",
      "Divison of 2 Numbers :  0\n"
     ]
    }
   ],
   "source": [
    "import calculator\n",
    "\n",
    "a = int(input(\"Enter 1st Number : \"))\n",
    "b = int(input(\"Enter 2nd Number : \"))\n",
    "\n",
    "ans1 = calculator.add(a,b);\n",
    "ans2 = calculator.sub(a,b);\n",
    "ans3 = calculator.multi(a,b);\n",
    "ans4 = calculator.div(a,b);\n",
    "\n",
    "print(\"Addition of 2 Numbers : \",ans1)\n",
    "print(\"Substraction of 2 Numbers : \",ans2)\n",
    "print(\"Multiplication of 2 Numbers : \",ans3)\n",
    "print(\"Divison of 2 Numbers : \",ans4)"
   ]
  },
  {
   "cell_type": "markdown",
   "metadata": {},
   "source": [
    "### 02) WAP to pick a random character from a given String."
   ]
  },
  {
   "cell_type": "code",
   "execution_count": 31,
   "metadata": {},
   "outputs": [
    {
     "name": "stdin",
     "output_type": "stream",
     "text": [
      "Enter a String Hello\n"
     ]
    },
    {
     "name": "stdout",
     "output_type": "stream",
     "text": [
      "Random Character :  e\n"
     ]
    }
   ],
   "source": [
    "import random\n",
    "\n",
    "s = input(\"Enter a String\")\n",
    "print(\"Random Character : \",random.choice(s))"
   ]
  },
  {
   "cell_type": "markdown",
   "metadata": {},
   "source": [
    "### 03) WAP to pick a random element from a given list."
   ]
  },
  {
   "cell_type": "code",
   "execution_count": 43,
   "metadata": {},
   "outputs": [
    {
     "name": "stdout",
     "output_type": "stream",
     "text": [
      "Random Element :  Hello\n"
     ]
    }
   ],
   "source": [
    "li = ['Hello','From','Python']\n",
    "print(\"Random Element : \",random.choice(li))"
   ]
  },
  {
   "cell_type": "markdown",
   "metadata": {},
   "source": [
    "### 04) WAP to roll a dice in such a way that every time you get the same number."
   ]
  },
  {
   "cell_type": "code",
   "execution_count": 66,
   "metadata": {},
   "outputs": [
    {
     "name": "stdout",
     "output_type": "stream",
     "text": [
      "2\n"
     ]
    }
   ],
   "source": [
    "random.seed(4)\n",
    "random_num = random.randint(1,7)\n",
    "print(random_num)"
   ]
  },
  {
   "cell_type": "markdown",
   "metadata": {},
   "source": [
    "### 05) WAP to generate 3 random integers between 100 and 999 which is divisible by 5."
   ]
  },
  {
   "cell_type": "code",
   "execution_count": 78,
   "metadata": {},
   "outputs": [
    {
     "name": "stdout",
     "output_type": "stream",
     "text": [
      "125\n",
      "610\n",
      "800\n"
     ]
    }
   ],
   "source": [
    "for i in range(0,3):\n",
    "    n = random.randrange(100,999,5)\n",
    "    print(n)"
   ]
  },
  {
   "cell_type": "markdown",
   "metadata": {},
   "source": [
    "### 06) WAP to generate 100 random lottery tickets and pick two lucky tickets from it and announce them as Winner and Runner up respectively."
   ]
  },
  {
   "cell_type": "code",
   "execution_count": 82,
   "metadata": {},
   "outputs": [
    {
     "name": "stdout",
     "output_type": "stream",
     "text": [
      "Winner is :  7706\n",
      "Runner Up :  6266\n"
     ]
    }
   ],
   "source": [
    "li = []\n",
    "for i in range(0,100):\n",
    "    n = random.randint(1000,9999)\n",
    "    li.append(n)\n",
    "\n",
    "winner = random.choice(li)\n",
    "runner_up = random.choice(li)\n",
    "\n",
    "if runner_up == winner:\n",
    "    runner_up = random.choice(li)\n",
    "\n",
    "print(\"Winner is : \",winner)\n",
    "print(\"Runner Up : \",runner_up)"
   ]
  },
  {
   "cell_type": "markdown",
   "metadata": {},
   "source": [
    "### 07) WAP to print current date and time in Python."
   ]
  },
  {
   "cell_type": "code",
   "execution_count": 86,
   "metadata": {},
   "outputs": [
    {
     "name": "stdout",
     "output_type": "stream",
     "text": [
      "Current Date & time is :  2025-02-12 13:00:48.105309\n"
     ]
    }
   ],
   "source": [
    "import datetime\n",
    "\n",
    "print(\"Current Date & time is : \",datetime.datetime.now())"
   ]
  },
  {
   "cell_type": "markdown",
   "metadata": {},
   "source": [
    "### 08) Subtract a week (7 days) from a given date in Python."
   ]
  },
  {
   "cell_type": "code",
   "execution_count": 96,
   "metadata": {},
   "outputs": [
    {
     "name": "stdin",
     "output_type": "stream",
     "text": [
      "Enter a Date :  12-02-2025\n"
     ]
    },
    {
     "name": "stdout",
     "output_type": "stream",
     "text": [
      "Date Before 7 Days :  2025-02-05 00:00:00\n"
     ]
    }
   ],
   "source": [
    "date = input(\"Enter a Date : \")\n",
    "convert_date = datetime.datetime.strptime(date,\"%d-%m-%Y\")\n",
    "date_diff = convert_date - datetime.timedelta(days = 7)\n",
    "print(\"Date Before 7 Days : \",date_diff)"
   ]
  },
  {
   "cell_type": "markdown",
   "metadata": {},
   "source": [
    "### 09) WAP to Calculate number of days between two given dates."
   ]
  },
  {
   "cell_type": "code",
   "execution_count": 102,
   "metadata": {},
   "outputs": [
    {
     "name": "stdin",
     "output_type": "stream",
     "text": [
      "Enter 1st Date :  12-02-2025\n",
      "Enter 2nd Date :  14-02-2025\n"
     ]
    },
    {
     "name": "stdout",
     "output_type": "stream",
     "text": [
      "Number Of days Between two date :  2 days, 0:00:00\n"
     ]
    }
   ],
   "source": [
    "date1 = input(\"Enter 1st Date : \")\n",
    "convert_date1 = datetime.datetime.strptime(date1,\"%d-%m-%Y\")\n",
    "# 2nd Date\n",
    "date2 = input(\"Enter 2nd Date : \")\n",
    "convert_date2 = datetime.datetime.strptime(date2,\"%d-%m-%Y\")\n",
    "\n",
    "count = convert_date1 - convert_date2\n",
    "print(\"Number Of days Between two date : \",abs(count))"
   ]
  },
  {
   "cell_type": "markdown",
   "metadata": {},
   "source": [
    "### 10) WAP to Find the day of the week of a given date.(i.e. wether it is sunday/monday/tuesday/etc.)"
   ]
  },
  {
   "cell_type": "code",
   "execution_count": 108,
   "metadata": {},
   "outputs": [
    {
     "name": "stdin",
     "output_type": "stream",
     "text": [
      "Enter a Date :  12-02-2025\n"
     ]
    },
    {
     "name": "stdout",
     "output_type": "stream",
     "text": [
      "Day Of Given date :  Wednesday\n"
     ]
    }
   ],
   "source": [
    "date = input(\"Enter a Date : \")\n",
    "convert_date = datetime.datetime.strptime(date,\"%d-%m-%Y\")\n",
    "# print(convert_date)\n",
    "day = convert_date.strftime(\"%A\")\n",
    "print(\"Day Of Given date : \",day)"
   ]
  },
  {
   "cell_type": "markdown",
   "metadata": {},
   "source": [
    "### 11) WAP to demonstrate the use of date time module."
   ]
  },
  {
   "cell_type": "code",
   "execution_count": 110,
   "metadata": {},
   "outputs": [
    {
     "name": "stdout",
     "output_type": "stream",
     "text": [
      "Current Date and Time: 2025-02-12 13:32:15.395285\n",
      "Current Date: 2025-02-12\n",
      "Specific Date: 2025-02-12\n",
      "Formatted Date and Time: 12-02-2025 13:32:15\n",
      "Difference between dates: 366 days\n",
      "Date after 30 days: 2025-03-14\n"
     ]
    }
   ],
   "source": [
    "# Get the current date and time\n",
    "now = datetime.datetime.now()\n",
    "print(\"Current Date and Time:\", now)\n",
    "\n",
    "# Get the current date\n",
    "current_date = datetime.date.today()\n",
    "print(\"Current Date:\", current_date)\n",
    "\n",
    "# Creating a specific date object\n",
    "specific_date = datetime.date(2025, 2, 12)\n",
    "print(\"Specific Date:\", specific_date)\n",
    "\n",
    "# Formatting a date\n",
    "formatted_date = now.strftime(\"%d-%m-%Y %H:%M:%S\")\n",
    "print(\"Formatted Date and Time:\", formatted_date)\n",
    "\n",
    "# Calculating the difference between two dates\n",
    "date1 = datetime.date(2025, 2, 12)\n",
    "date2 = datetime.date(2024, 2, 12)\n",
    "difference = date1 - date2\n",
    "print(\"Difference between dates:\", difference.days, \"days\")\n",
    "\n",
    "# Adding days to a date\n",
    "future_date = current_date + datetime.timedelta(days=30)\n",
    "print(\"Date after 30 days:\", future_date)"
   ]
  },
  {
   "cell_type": "markdown",
   "metadata": {},
   "source": [
    "### 12) WAP to demonstrate the use of the math module."
   ]
  },
  {
   "cell_type": "code",
   "execution_count": 112,
   "metadata": {},
   "outputs": [
    {
     "name": "stdout",
     "output_type": "stream",
     "text": [
      "Square root of 16 is: 4.0\n",
      "Factorial of 5 is: 120\n",
      "GCD of 48 and 18 is: 6\n",
      "Value of Pi: 3.141592653589793\n",
      "Value of e: 2.718281828459045\n",
      "Sin(30 degrees): 0.49999999999999994\n",
      "Cos(30 degrees): 0.8660254037844387\n",
      "Tan(30 degrees): 0.5773502691896256\n",
      "Ceiling of 4.7 is: 5\n",
      "Floor of 4.7 is: 4\n"
     ]
    }
   ],
   "source": [
    "import math\n",
    "\n",
    "# Finding square root\n",
    "num = 16\n",
    "print(\"Square root of\", num, \"is:\", math.sqrt(num))\n",
    "\n",
    "# Finding the factorial\n",
    "num = 5\n",
    "print(\"Factorial of\", num, \"is:\", math.factorial(num))\n",
    "\n",
    "# Finding the greatest common divisor (GCD)\n",
    "num1, num2 = 48, 18\n",
    "print(\"GCD of\", num1, \"and\", num2, \"is:\", math.gcd(num1, num2))\n",
    "\n",
    "# Value of pi\n",
    "print(\"Value of Pi:\", math.pi)\n",
    "\n",
    "# Value of e\n",
    "print(\"Value of e:\", math.e)\n",
    "\n",
    "# Using trigonometric functions\n",
    "angle = math.radians(30)  # Convert degrees to radians\n",
    "print(\"Sin(30 degrees):\", math.sin(angle))\n",
    "print(\"Cos(30 degrees):\", math.cos(angle))\n",
    "print(\"Tan(30 degrees):\", math.tan(angle))\n",
    "\n",
    "# Rounding up and down\n",
    "num = 4.7\n",
    "print(\"Ceiling of\", num, \"is:\", math.ceil(num))\n",
    "print(\"Floor of\", num, \"is:\", math.floor(num))"
   ]
  }
 ],
 "metadata": {
  "kernelspec": {
   "display_name": "Python 3 (ipykernel)",
   "language": "python",
   "name": "python3"
  },
  "language_info": {
   "codemirror_mode": {
    "name": "ipython",
    "version": 3
   },
   "file_extension": ".py",
   "mimetype": "text/x-python",
   "name": "python",
   "nbconvert_exporter": "python",
   "pygments_lexer": "ipython3",
   "version": "3.12.7"
  }
 },
 "nbformat": 4,
 "nbformat_minor": 4
}
