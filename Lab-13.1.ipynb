{
 "cells": [
  {
   "cell_type": "markdown",
   "metadata": {},
   "source": [
    "<a href='https://www.darshan.ac.in/'> <img src='https://www.darshan.ac.in/Content/media/DU_Logo.svg' width=\"250\" height=\"300\"/></a>\n",
    "<pre>\n",
    "<center><b><h1>Python Programming - 2301CS404</b></center>\n",
    "<center><b><h1>Lab - 13</b></center>\n",
    "<center><b><h1>Nency Parmar | 23010101193 | 05-03-2025</b></center>\n",
    "<pre>"
   ]
  },
  {
   "cell_type": "markdown",
   "metadata": {},
   "source": [
    "# OOP"
   ]
  },
  {
   "cell_type": "markdown",
   "metadata": {},
   "source": [
    "### 01) Write a Program to create a class by name Students, and initialize attributes like name, age, and grade while creating an object."
   ]
  },
  {
   "cell_type": "code",
   "execution_count": 5,
   "metadata": {},
   "outputs": [
    {
     "name": "stdout",
     "output_type": "stream",
     "text": [
      "Name : Nency,\n",
      "Age : 19,\n",
      "Grade : A++\n"
     ]
    }
   ],
   "source": [
    "class Student:\n",
    "    def __init__(self, name, age, grade):\n",
    "        self.Name = name\n",
    "        self.Age = age\n",
    "        self.Grade = grade\n",
    "\n",
    "    def get_data(self):\n",
    "        print(f\"Name : {self.Name},\\nAge : {self.Age},\\nGrade : {self.Grade}\")\n",
    "\n",
    "s1 = Student(\"Nency\", 19, \"A++\")\n",
    "s1.get_data()"
   ]
  },
  {
   "cell_type": "markdown",
   "metadata": {},
   "source": [
    "### 02) Create a class named Bank_Account with Account_No, User_Name, Email,Account_Type and Account_Balance data members. Also create a method GetAccountDetails() and DisplayAccountDetails(). Create main method to demonstrate the Bank_Account class."
   ]
  },
  {
   "cell_type": "code",
   "execution_count": 20,
   "metadata": {},
   "outputs": [
    {
     "name": "stdin",
     "output_type": "stream",
     "text": [
      "Enter User Name :  Nency\n",
      "Enter Account Number :  101\n",
      "Enter an Email :  nency@gmail.com\n",
      "Enter Account Type :  Savings\n",
      "Enter Account Balance :  40000\n"
     ]
    },
    {
     "name": "stdout",
     "output_type": "stream",
     "text": [
      "------ Account Details ------\n",
      "User Name :  Nency\n",
      "Account No :  101\n",
      "Email :  nency@gmail.com\n",
      "Account Type :  Savings\n",
      "Account Balance :  40000.0\n"
     ]
    }
   ],
   "source": [
    "class Bank_Account:\n",
    "    def __init__(self):\n",
    "        pass\n",
    "\n",
    "    def GetAccountDetails(self):\n",
    "        self.user = input(\"Enter User Name : \")\n",
    "        self.act_no = int(input(\"Enter Account Number : \"))\n",
    "        self.email = input(\"Enter an Email : \")\n",
    "        self.act_type = input(\"Enter Account Type : \")\n",
    "        self.act_balance = float(input(\"Enter Account Balance : \"))\n",
    "\n",
    "    def DisplayAccountDetails(self):\n",
    "        print(\"------ Account Details ------\")\n",
    "        print(\"User Name : \",self.user)\n",
    "        print(\"Account No : \",self.act_no)\n",
    "        print(\"Email : \",self.email)\n",
    "        print(\"Account Type : \",self.act_type)\n",
    "        print(\"Account Balance : \",self.act_balance)\n",
    "\n",
    "b1 = Bank_Account()\n",
    "b1.GetAccountDetails()\n",
    "b1.DisplayAccountDetails()"
   ]
  },
  {
   "cell_type": "markdown",
   "metadata": {},
   "source": [
    "### 03) WAP to create Circle class with area and perimeter function to find area and perimeter of circle."
   ]
  },
  {
   "cell_type": "code",
   "execution_count": 24,
   "metadata": {},
   "outputs": [
    {
     "name": "stdout",
     "output_type": "stream",
     "text": [
      "Area :  3.14\n",
      "Perimiter :  6.28\n"
     ]
    }
   ],
   "source": [
    "class Circle:\n",
    "    def __init__(self,radius):\n",
    "        self.radius = radius\n",
    "\n",
    "    def findArea(self):\n",
    "        area = 3.14*self.radius**2\n",
    "        print(\"Area : \",area)\n",
    "\n",
    "    def findPeri(self):\n",
    "        peri = 2*3.14*self.radius\n",
    "        print(\"Perimiter : \",peri)\n",
    "\n",
    "c1 = Circle(1)\n",
    "c1.findArea()\n",
    "c1.findPeri()"
   ]
  },
  {
   "cell_type": "markdown",
   "metadata": {},
   "source": [
    "### 04) Create a class for employees that includes attributes such as name, age, salary, and methods to update and display employee information."
   ]
  },
  {
   "cell_type": "code",
   "execution_count": 88,
   "metadata": {},
   "outputs": [
    {
     "name": "stdin",
     "output_type": "stream",
     "text": [
      "Enter Name :  Nency\n",
      "Enter Your Age :  19\n",
      "Enter Salary :  43587894536\n"
     ]
    },
    {
     "name": "stdout",
     "output_type": "stream",
     "text": [
      "------ Employee Details ------\n",
      "Employee Name :  Nency\n",
      "Employee's Age :  19\n",
      "Employee's Salary :  43587894536.0\n",
      "------ Updated Details ------\n",
      "------ Employee Details ------\n",
      "Employee Name :  Nency\n",
      "Employee's Age :  20\n",
      "Employee's Salary :  43587894536.0\n"
     ]
    }
   ],
   "source": [
    "class Employee:\n",
    "    def __init__(self):\n",
    "        pass\n",
    "\n",
    "    def getDetails(self):\n",
    "        self.Name = input(\"Enter Name : \")\n",
    "        self.Age = int(input(\"Enter Your Age : \"))\n",
    "        self.Salary = float(input(\"Enter Salary : \"))\n",
    "\n",
    "    def display(self):\n",
    "        print(\"------ Employee Details ------\")\n",
    "        print(\"Employee Name : \",self.Name)\n",
    "        print(\"Employee's Age : \",self.Age)\n",
    "        print(\"Employee's Salary : \",self.Salary)\n",
    "\n",
    "    def updateDetails(self,Name = None , Age = None, Salary = None):\n",
    "        if Name:\n",
    "            self.Name = Name\n",
    "        if Age:\n",
    "            self.Age = Age\n",
    "        if Salary:\n",
    "            self.Salary = Salary\n",
    "            \n",
    "e1 = Employee()\n",
    "e1.getDetails()\n",
    "e1.display()\n",
    "\n",
    "print(\"------ Updated Details ------\")\n",
    "e1.updateDetails(Age = 20)\n",
    "e1.display()"
   ]
  },
  {
   "cell_type": "markdown",
   "metadata": {},
   "source": [
    "### 05) Create a bank account class with methods to deposit, withdraw, and check balance."
   ]
  },
  {
   "cell_type": "code",
   "execution_count": 74,
   "metadata": {},
   "outputs": [
    {
     "name": "stdout",
     "output_type": "stream",
     "text": [
      "------ Details ------\n",
      "Name :  Nency\n",
      "Your Balance is :  20000\n",
      "------ Details ------\n",
      "Name :  Nency\n",
      "Your Balance is :  21000\n"
     ]
    }
   ],
   "source": [
    "class Bank:\n",
    "    name = \"\"\n",
    "    op_bal = 0\n",
    "\n",
    "    def __init__(self , name , act_opening_bal):\n",
    "        self.name = name\n",
    "        self.op_bal = act_opening_bal\n",
    "\n",
    "    def deposit(self,money):\n",
    "        self.op_bal += money\n",
    "\n",
    "    def withdraw(self,money):\n",
    "        if(self.op_bal <= money):\n",
    "            print(\"Insufficient Balance.\")\n",
    "        else:\n",
    "            self.op_bal -= money\n",
    "    \n",
    "    def printDetails(self):\n",
    "        print(\"------ Details ------\")\n",
    "        print(\"Name : \",self.name)\n",
    "        print(\"Your Balance is : \",self.op_bal)\n",
    "\n",
    "ac1 = Bank(\"Nency\",20000)\n",
    "ac1.printDetails()\n",
    "ac1.deposit(2000)\n",
    "ac1.withdraw(1000)\n",
    "ac1.printDetails()"
   ]
  },
  {
   "cell_type": "markdown",
   "metadata": {},
   "source": [
    "### 06) Create a class for managing inventory that includes attributes such as item name, price, quantity, and methods to add, remove, and update items."
   ]
  },
  {
   "cell_type": "code",
   "execution_count": 86,
   "metadata": {},
   "outputs": [
    {
     "name": "stdin",
     "output_type": "stream",
     "text": [
      "Enter Item's Name :  iPhone\n",
      "Enter Item's Price :  1000000\n",
      "Enter Item's Quantity :  3\n"
     ]
    },
    {
     "name": "stdout",
     "output_type": "stream",
     "text": [
      "------ Item Details ------\n",
      "Item's Name :  iPhone\n",
      "Item's Price :  1000000.0\n",
      "Item's Quantity :  3\n",
      "After Update\n",
      "------ Item Details ------\n",
      "Item's Name :  iPhone\n",
      "Item's Price :  2000000\n",
      "Item's Quantity :  10\n"
     ]
    }
   ],
   "source": [
    "class Inventory:\n",
    "    def __init__(self):\n",
    "        pass\n",
    "    \n",
    "    def addInventory(self):\n",
    "        self.name = input(\"Enter Item's Name : \")\n",
    "        self.price = float(input(\"Enter Item's Price : \"))\n",
    "        self.quantity = int(input(\"Enter Item's Quantity : \"))\n",
    "\n",
    "    def print(self):\n",
    "        print(\"------ Item Details ------\")\n",
    "        print(\"Item's Name : \",self.name)\n",
    "        print(\"Item's Price : \",self.price)\n",
    "        print(\"Item's Quantity : \",self.quantity)\n",
    "\n",
    "    def updateDetails(self,name = None , price = None, quantity = None):\n",
    "        if name:\n",
    "            self.name = name\n",
    "        if price:\n",
    "            self.price = price\n",
    "        if quantity:\n",
    "            self.quantity = quantity\n",
    "\n",
    "    def deleteItem(self):\n",
    "        self.name = None\n",
    "        self.price = None\n",
    "        self.quantity = None\n",
    "\n",
    "i1 = Inventory()\n",
    "i1.addInventory()\n",
    "i1.print()\n",
    "print(\"After Update\")\n",
    "i1.updateDetails(price = 2000000,quantity = 10)\n",
    "i1.print()"
   ]
  },
  {
   "cell_type": "markdown",
   "metadata": {},
   "source": [
    "### 07) Create a Class with instance attributes of your choice."
   ]
  },
  {
   "cell_type": "code",
   "execution_count": 100,
   "metadata": {},
   "outputs": [
    {
     "name": "stdout",
     "output_type": "stream",
     "text": [
      "------ Student details ------\n",
      "Student's Name :  Nency\n",
      "Student's Roll No :  237864\n",
      "Student's Age :  19\n"
     ]
    }
   ],
   "source": [
    "class Student:\n",
    "    def __init__(self,name,r_no,age):\n",
    "        self.name = name\n",
    "        self.rno = r_no\n",
    "        self.age = age\n",
    "\n",
    "    def printDetails(self):\n",
    "        print(\"------ Student details ------\")\n",
    "        print(\"Student's Name : \",self.name)\n",
    "        print(\"Student's Roll No : \",self.rno)\n",
    "        print(\"Student's Age : \",self.age)\n",
    "\n",
    "s1 = Student(\"Nency\",237864,19)\n",
    "s1.printDetails()"
   ]
  },
  {
   "cell_type": "markdown",
   "metadata": {},
   "source": [
    "### 08) Create one class student_kit\n",
    "#### Within the student_kit class create one class attribute principal name ( Mr ABC )\n",
    "#### Create one attendance method and take input as number of days.\n",
    "#### While creating student take input their name .\n",
    "#### Create one certificate for each student by taking input of number of days present in class."
   ]
  },
  {
   "cell_type": "code",
   "execution_count": 1,
   "metadata": {},
   "outputs": [
    {
     "name": "stdin",
     "output_type": "stream",
     "text": [
      "Enter Student Name:  Nency\n",
      "Enter Number of days present:  366\n"
     ]
    },
    {
     "name": "stdout",
     "output_type": "stream",
     "text": [
      "\n",
      "--------------------------------\n",
      "Certificate of Attendance\n",
      "--------------------------------\n",
      "This is to Certify that  Nency\n",
      "has Attended  366  days of Classes.\n",
      "Under the guidance of  Principal Sir\n",
      "--------------------------------\n",
      "\n"
     ]
    }
   ],
   "source": [
    "class Student_Kit:\n",
    "    principal_name = \"Principal Sir\"\n",
    "    \n",
    "    def __init__(self, stu_name):\n",
    "        self.Student_name = stu_name\n",
    "    \n",
    "    def attendance(self, days_present):\n",
    "        self.days_present = days_present\n",
    "        self.generate_certificate()\n",
    "    \n",
    "    def generate_certificate(self):\n",
    "        print(\"\\n--------------------------------\")\n",
    "        print(\"Certificate of Attendance\")\n",
    "        print(\"--------------------------------\")\n",
    "        print(\"This is to Certify that \",self.Student_name)\n",
    "        print(\"has Attended \",self.days_present,\" days of Classes.\")\n",
    "        print(\"Under the guidance of \",Student_Kit.principal_name)\n",
    "        print(\"--------------------------------\\n\")\n",
    "\n",
    "\n",
    "s1 = input(\"Enter Student Name: \")\n",
    "Student = Student_Kit(s1)\n",
    "Days_Present = int(input(\"Enter Number of days present: \"))\n",
    "Student.attendance(Days_Present)"
   ]
  },
  {
   "cell_type": "markdown",
   "metadata": {},
   "source": [
    "### 09) Define Time class with hour and minute as data member. Also define addition method to add two time objects."
   ]
  },
  {
   "cell_type": "code",
   "execution_count": 11,
   "metadata": {},
   "outputs": [
    {
     "name": "stdout",
     "output_type": "stream",
     "text": [
      "Total Hours : 3 hours and \n",
      "Total Minutes : 40 minutes\n"
     ]
    }
   ],
   "source": [
    "class Time:\n",
    "    def __init__(self, hr, min):\n",
    "        self.hr = hr\n",
    "        self.min = min\n",
    "\n",
    "    def addition_time(self, hr, min):\n",
    "        total_min = self.min + min\n",
    "        total_hr = self.hr + hr + (total_min // 60)\n",
    "        total_min = total_min % 60\n",
    "        return Time(total_hr, total_min)\n",
    "\n",
    "    def display(self):\n",
    "        print(f\"Total Hours : {self.hr} hours and \\nTotal Minutes : {self.min} minutes\")\n",
    "\n",
    "\n",
    "t1 = Time(2, 50)\n",
    "t3 = t1.addition_time(0, 50)\n",
    "\n",
    "t3.display()"
   ]
  }
 ],
 "metadata": {
  "kernelspec": {
   "display_name": "Python 3 (ipykernel)",
   "language": "python",
   "name": "python3"
  },
  "language_info": {
   "codemirror_mode": {
    "name": "ipython",
    "version": 3
   },
   "file_extension": ".py",
   "mimetype": "text/x-python",
   "name": "python",
   "nbconvert_exporter": "python",
   "pygments_lexer": "ipython3",
   "version": "3.12.7"
  }
 },
 "nbformat": 4,
 "nbformat_minor": 4
}
