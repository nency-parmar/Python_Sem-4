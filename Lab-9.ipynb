{
 "cells": [
  {
   "cell_type": "markdown",
   "metadata": {},
   "source": [
    "<a href='https://www.darshan.ac.in/'> <img src='https://www.darshan.ac.in/Content/media/DU_Logo.svg' width=\"250\" height=\"300\"/></a>\n",
    "<pre>\n",
    "<center><b><h1>Python Programming - 2301CS404</b></center>\n",
    "<center><b><h1>Lab - 9</b></center>\n",
    "<center><b><h1>Nency Parmar | 23010101193 | 29/01/2025</b></center>\n",
    "<pre>"
   ]
  },
  {
   "cell_type": "markdown",
   "metadata": {},
   "source": [
    "# File I/O"
   ]
  },
  {
   "cell_type": "markdown",
   "metadata": {},
   "source": [
    "### 01) WAP to read and display the contents of a text file. (also try to open the file in some other directory) \n",
    "#### - in the form of a string\n",
    "#### - line by line\n",
    "#### - in the form of a list"
   ]
  },
  {
   "cell_type": "code",
   "execution_count": 3,
   "metadata": {},
   "outputs": [
    {
     "name": "stdout",
     "output_type": "stream",
     "text": [
      "The beauty of nature lies in its ability to inspire and heal.\n",
      "From the gentle rustling of leaves in the wind to the rhythmic crashing of waves on the shore, every element of nature tells a story.\n",
      "The colors of a sunset, the fragrance of blooming flowers, and the serenity of a quiet forest bring peace to the mind and soul.\n",
      "In a world filled with chaos, nature serves as a reminder to pause, breathe, and appreciate the simple joys of life.\n"
     ]
    }
   ],
   "source": [
    "fp = open(\"file_1.txt\",\"r\")\n",
    "print(fp.read())\n",
    "fp.close();"
   ]
  },
  {
   "cell_type": "markdown",
   "metadata": {},
   "source": [
    "### 02) WAP to create file named \"new.txt\" only if it doesn't exist."
   ]
  },
  {
   "cell_type": "code",
   "execution_count": 5,
   "metadata": {},
   "outputs": [
    {
     "name": "stdout",
     "output_type": "stream",
     "text": [
      "61\n"
     ]
    }
   ],
   "source": [
    "fp = open(\"file_2.txt\",\"w\")\n",
    "print(fp.write('The beauty of nature lies in its ability to inspire and heal.'))\n",
    "fp.close();"
   ]
  },
  {
   "cell_type": "markdown",
   "metadata": {},
   "source": [
    "### 03) WAP to read first 5 lines from the text file."
   ]
  },
  {
   "cell_type": "code",
   "execution_count": 7,
   "metadata": {},
   "outputs": [
    {
     "name": "stdout",
     "output_type": "stream",
     "text": [
      "The beauty of nature lies in its ability to inspire and heal.\n",
      "\n",
      "From the gentle rustling of leaves in the wind to the rhythmic crashing of waves on the shore, every element of nature tells a story.\n",
      "\n",
      "The colors of a sunset, the fragrance of blooming flowers, and the serenity of a quiet forest bring peace to the mind and soul.\n",
      "\n",
      "In a world filled with chaos, nature serves as a reminder to pause, breathe, and appreciate the simple joys of life.\n",
      "\n",
      "The beauty of nature lies in its ability to inspire and heal.\n",
      "\n"
     ]
    }
   ],
   "source": [
    "fp = open(\"file_1.txt\",\"r\")\n",
    "for i in range(0,5):\n",
    "    print(fp.readline())\n",
    "fp.close();"
   ]
  },
  {
   "cell_type": "markdown",
   "metadata": {},
   "source": [
    "### 04) WAP to find the longest word(s) in a file"
   ]
  },
  {
   "cell_type": "code",
   "execution_count": 23,
   "metadata": {},
   "outputs": [
    {
     "name": "stdout",
     "output_type": "stream",
     "text": [
      "appreciate  :  10\n",
      "appreciate  :  10\n",
      "appreciate  :  10\n"
     ]
    }
   ],
   "source": [
    "fp = open(\"file_1.txt\",\"r\")\n",
    "max_length = 0\n",
    "fp_split = fp.read().split()\n",
    "longest_words = []\n",
    "for word in fp_split:\n",
    "    if len(word) > max_length:\n",
    "        max_length = len(word)\n",
    "        longest_words = [word]\n",
    "    elif len(word) == max_length:\n",
    "        longest_words.append(word)\n",
    "for word in longest_words:\n",
    "    print(word,\" : \",len(word))\n",
    "fp.close();"
   ]
  },
  {
   "cell_type": "markdown",
   "metadata": {},
   "source": [
    "### 05) WAP to count the no. of lines, words and characters in a given text file."
   ]
  },
  {
   "cell_type": "code",
   "execution_count": 47,
   "metadata": {},
   "outputs": [
    {
     "name": "stdout",
     "output_type": "stream",
     "text": [
      " 1322\n"
     ]
    }
   ],
   "source": [
    "fp = open(\"file_1.txt\",\"r\")\n",
    "\n",
    "\n",
    "# Lines...\n",
    "# fp_lines = len(fp.readlines())\n",
    "# print(\"Number Of Lines in File : \",fp_lines)\n",
    "\n",
    "\n",
    "# Words...\n",
    "# fp_words = fp.read().split()\n",
    "# fp_word_count = len(fp_words)\n",
    "# print(\"Number Of Words in File : \",fp_word_count)\n",
    "\n",
    "\n",
    "# Characters...\n",
    "fp_char = fp.read()\n",
    "fp_characters = len(fp_char)\n",
    "print(\"Number Of Characters in File : \",fp_characters)"
   ]
  },
  {
   "cell_type": "markdown",
   "metadata": {},
   "source": [
    "### 06) WAP to copy the content of a file to the another file."
   ]
  },
  {
   "cell_type": "code",
   "execution_count": 49,
   "metadata": {},
   "outputs": [],
   "source": [
    "fp = open(\"file_1.txt\",\"r+\")\n",
    "fp_read = fp.read()\n",
    "fp_copy = open(\"file_1_copy.txt\",\"w\")\n",
    "fp_copy.write(fp_read)\n",
    "fp_copy.close()\n",
    "fp.close()"
   ]
  },
  {
   "cell_type": "markdown",
   "metadata": {},
   "source": [
    "### 07) WAP to find the size of the text file. "
   ]
  },
  {
   "cell_type": "code",
   "execution_count": 53,
   "metadata": {},
   "outputs": [
    {
     "name": "stdout",
     "output_type": "stream",
     "text": [
      "Size of 'file_1.txt' is  1322\n"
     ]
    }
   ],
   "source": [
    "fp = open(\"file_1.txt\", \"rb\")\n",
    "fp.seek(0, 2)\n",
    "file_size = fp.tell()\n",
    "print(\"Size of 'file_1.txt' is \",file_size)\n",
    "fp.close()"
   ]
  },
  {
   "cell_type": "markdown",
   "metadata": {},
   "source": [
    "### 08) WAP to create an UDF named frequency to count occurances of the specific word in a given text file."
   ]
  },
  {
   "cell_type": "code",
   "execution_count": 64,
   "metadata": {},
   "outputs": [
    {
     "name": "stdin",
     "output_type": "stream",
     "text": [
      "Enter the word to count:  life\n"
     ]
    },
    {
     "name": "stdout",
     "output_type": "stream",
     "text": [
      "The word appears  0  times in the file.\n"
     ]
    }
   ],
   "source": [
    "def frequency(word):\n",
    "    count = 0\n",
    "    fp = open(\"file_1.txt\",\"r\")\n",
    "    for line in fp:\n",
    "        words = line.split()\n",
    "        count += words.count(word)\n",
    "    print(\"The word appears \",count,\" times in the file.\")\n",
    "\n",
    "word_to_find = input(\"Enter the word to count: \")\n",
    "frequency(word_to_find)"
   ]
  },
  {
   "cell_type": "markdown",
   "metadata": {},
   "source": [
    "### 09) WAP to get the score of five subjects from the user, store them in a file. Fetch those marks and find the highest score."
   ]
  },
  {
   "cell_type": "code",
   "execution_count": 2,
   "metadata": {},
   "outputs": [
    {
     "name": "stdin",
     "output_type": "stream",
     "text": [
      "Enter score for subject 1:  98\n",
      "Enter score for subject 2:  95\n",
      "Enter score for subject 3:  93\n",
      "Enter score for subject 4:  82\n",
      "Enter score for subject 5:  90\n"
     ]
    },
    {
     "name": "stdout",
     "output_type": "stream",
     "text": [
      "The highest score is: 98\n"
     ]
    }
   ],
   "source": [
    "def store_scores():\n",
    "    scores = []\n",
    "    for i in range(5):\n",
    "        score = int(input(f\"Enter score for subject {i+1}: \"))\n",
    "        scores.append(score)\n",
    "    \n",
    "    with open(\"scores.txt\", \"w\") as file:\n",
    "        for score in scores:\n",
    "            file.write(str(score) + \"\\n\")\n",
    "\n",
    "def find_highest_score():\n",
    "    scores = []\n",
    "    \n",
    "    with open(\"scores.txt\", \"r\") as file:\n",
    "        for line in file:\n",
    "            scores.append(int(line.strip()))\n",
    "    \n",
    "    highest = max(scores)\n",
    "    print(\"The highest score is:\", highest)\n",
    "store_scores()\n",
    "find_highest_score()"
   ]
  },
  {
   "cell_type": "markdown",
   "metadata": {},
   "source": [
    "### 10) WAP to write first 100 prime numbers to a file named primenumbers.txt \n",
    "(Note: each number should be in new line)"
   ]
  },
  {
   "cell_type": "code",
   "execution_count": 4,
   "metadata": {},
   "outputs": [],
   "source": [
    "def is_prime(n):\n",
    "    if n < 2:\n",
    "        return False\n",
    "    for i in range(2, int(n ** 0.5) + 1):\n",
    "        if n % i == 0:\n",
    "            return False\n",
    "    return True\n",
    "\n",
    "def write_primes():\n",
    "    primes = []\n",
    "    num = 2\n",
    "    while len(primes) < 100:\n",
    "        if is_prime(num):\n",
    "            primes.append(num)\n",
    "        num += 1\n",
    "    \n",
    "    with open(\"primenumbers.txt\", \"w\") as file:\n",
    "        for prime in primes:\n",
    "            file.write(str(prime) + \"\\n\")\n",
    "\n",
    "write_primes()"
   ]
  },
  {
   "cell_type": "markdown",
   "metadata": {},
   "source": [
    "### 11) WAP to merge two files and write it in a new file."
   ]
  },
  {
   "cell_type": "code",
   "execution_count": 10,
   "metadata": {},
   "outputs": [],
   "source": [
    "def is_prime(n):\n",
    "    if n < 2:\n",
    "        return False\n",
    "    for i in range(2, int(n ** 0.5) + 1):\n",
    "        if n % i == 0:\n",
    "            return False\n",
    "    return True\n",
    "\n",
    "def write_primes():\n",
    "    primes = []\n",
    "    num = 2\n",
    "    while len(primes) < 100:\n",
    "        if is_prime(num):\n",
    "            primes.append(num)\n",
    "        num += 1\n",
    "    \n",
    "    with open(\"primenumbers.txt\", \"w\") as file:\n",
    "        for prime in primes:\n",
    "            file.write(str(prime) + \"\\n\")\n",
    "\n",
    "def merge_files(file1, file2, output_file):\n",
    "    with open(output_file, \"w\") as outfile:\n",
    "        for fname in [file1, file2]:\n",
    "            with open(fname, \"r\") as infile:\n",
    "                outfile.write(infile.read())\n",
    "\n",
    "write_primes()\n",
    "merge_files(\"primenumbers.txt\", \"anotherfile.txt\", \"mergedfile.txt\")"
   ]
  },
  {
   "cell_type": "markdown",
   "metadata": {},
   "source": [
    "### 12) WAP to replace word1 by word2 of a text file. Write the updated data to new file."
   ]
  },
  {
   "cell_type": "code",
   "execution_count": 12,
   "metadata": {},
   "outputs": [],
   "source": [
    "def is_prime(n):\n",
    "    if n < 2:\n",
    "        return False\n",
    "    for i in range(2, int(n ** 0.5) + 1):\n",
    "        if n % i == 0:\n",
    "            return False\n",
    "    return True\n",
    "\n",
    "def write_primes():\n",
    "    primes = []\n",
    "    num = 2\n",
    "    while len(primes) < 100:\n",
    "        if is_prime(num):\n",
    "            primes.append(num)\n",
    "        num += 1\n",
    "    \n",
    "    with open(\"primenumbers.txt\", \"w\") as file:\n",
    "        for prime in primes:\n",
    "            file.write(str(prime) + \"\\n\")\n",
    "\n",
    "def merge_files(file1, file2, output_file):\n",
    "    with open(output_file, \"w\") as outfile:\n",
    "        for fname in [file1, file2]:\n",
    "            with open(fname, \"r\") as infile:\n",
    "                outfile.write(infile.read())\n",
    "\n",
    "def replace_word(input_file, output_file, word1, word2):\n",
    "    with open(input_file, \"r\") as file:\n",
    "        data = file.read()\n",
    "    \n",
    "    data = data.replace(word1, word2)\n",
    "    \n",
    "    with open(output_file, \"w\") as file:\n",
    "        file.write(data)\n",
    "\n",
    "write_primes()\n",
    "merge_files(\"primenumbers.txt\", \"anotherfile.txt\", \"mergedfile.txt\")\n",
    "replace_word(\"mergedfile.txt\", \"updatedfile.txt\", \"word1\", \"word2\")"
   ]
  },
  {
   "cell_type": "markdown",
   "metadata": {},
   "source": [
    "### 13) Demonstrate tell() and seek() for all the cases(seek from beginning-end-current position) taking a suitable example of your choice."
   ]
  },
  {
   "cell_type": "code",
   "execution_count": null,
   "metadata": {},
   "outputs": [],
   "source": []
  }
 ],
 "metadata": {
  "kernelspec": {
   "display_name": "Python 3 (ipykernel)",
   "language": "python",
   "name": "python3"
  },
  "language_info": {
   "codemirror_mode": {
    "name": "ipython",
    "version": 3
   },
   "file_extension": ".py",
   "mimetype": "text/x-python",
   "name": "python",
   "nbconvert_exporter": "python",
   "pygments_lexer": "ipython3",
   "version": "3.12.7"
  }
 },
 "nbformat": 4,
 "nbformat_minor": 4
}
