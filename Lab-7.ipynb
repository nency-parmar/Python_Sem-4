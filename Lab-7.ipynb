{
 "cells": [
  {
   "cell_type": "markdown",
   "metadata": {},
   "source": [
    "<a href='https://www.darshan.ac.in/'> <img src='https://www.darshan.ac.in/Content/media/DU_Logo.svg' width=\"250\" height=\"300\"/></a>\n",
    "<pre>\n",
    "<center><b><h1>Python Programming - 2301CS404</b></center>\n",
    "<center><b><h1>Lab - 7</b></center>    \n",
    "<pre>"
   ]
  },
  {
   "cell_type": "markdown",
   "metadata": {},
   "source": [
    "# Set & Dictionary"
   ]
  },
  {
   "cell_type": "markdown",
   "metadata": {},
   "source": [
    "### 01) WAP to iterate over a set."
   ]
  },
  {
   "cell_type": "code",
   "execution_count": 13,
   "metadata": {},
   "outputs": [
    {
     "name": "stdout",
     "output_type": "stream",
     "text": [
      "1\n",
      "2\n",
      "3\n",
      "4\n",
      "5\n"
     ]
    }
   ],
   "source": [
    "# n = int(input(\"Enter a Size Of Set : \"))\n",
    "# s1 = {}\n",
    "# for i in range(0,n):\n",
    "#     ele = int(input(\"Enter an Elements in Tuple : \"))\n",
    "#     s1 += ele\n",
    "s1 = {1,2,3,4,5}\n",
    "for i in s1:\n",
    "    print(i)"
   ]
  },
  {
   "cell_type": "markdown",
   "metadata": {},
   "source": [
    "### 02) WAP to convert set into list, string and tuple."
   ]
  },
  {
   "cell_type": "code",
   "execution_count": 28,
   "metadata": {},
   "outputs": [
    {
     "name": "stdout",
     "output_type": "stream",
     "text": [
      "12345\n",
      "{1, 2, 3, 4, 5}\n",
      "<class 'set'>\n",
      "[1, 2, 3, 4, 5]\n",
      "<class 'list'>\n",
      "12345\n",
      "<class 'str'>\n",
      "(1, 2, 3, 4, 5)\n",
      "<class 'tuple'>\n"
     ]
    }
   ],
   "source": [
    "s = {1,2,3,4,5}\n",
    "\n",
    "l1 = list(s)\n",
    "\n",
    "String = ''\n",
    "for i in s:\n",
    "    String += str(i)\n",
    "print(String)\n",
    "\n",
    "t1 = tuple(s)\n",
    "\n",
    "print(s)\n",
    "print(type(s))\n",
    "print(l1)\n",
    "print(type(l1))\n",
    "print(String)\n",
    "print(type(String))\n",
    "print(t1)\n",
    "print(type(t1))"
   ]
  },
  {
   "cell_type": "markdown",
   "metadata": {},
   "source": [
    "### 03) WAP to find Maximum and Minimum from a set."
   ]
  },
  {
   "cell_type": "code",
   "execution_count": 30,
   "metadata": {},
   "outputs": [
    {
     "name": "stdout",
     "output_type": "stream",
     "text": [
      "Minimum Element is :  5\n",
      "Maximum Element is :  1\n"
     ]
    }
   ],
   "source": [
    "s = {1,2,3,4,5}\n",
    "l1 = list(s)\n",
    "l1.sort()\n",
    "max_ele = l1[0]\n",
    "min_ele = l1[len(s)-1]\n",
    "print(\"Minimum Element is : \",min_ele)\n",
    "print(\"Maximum Element is : \",max_ele)"
   ]
  },
  {
   "cell_type": "markdown",
   "metadata": {},
   "source": [
    "### 04) WAP to perform union of two sets."
   ]
  },
  {
   "cell_type": "code",
   "execution_count": 34,
   "metadata": {},
   "outputs": [
    {
     "data": {
      "text/plain": [
       "{1, 2, 3, 4, 5, 6, 7, 8, 9, 10}"
      ]
     },
     "execution_count": 34,
     "metadata": {},
     "output_type": "execute_result"
    }
   ],
   "source": [
    "s1 = {1,2,3,4,5}\n",
    "s2 = {6,7,8,9,10}\n",
    "s1.union(s2)"
   ]
  },
  {
   "cell_type": "markdown",
   "metadata": {},
   "source": [
    "### 05) WAP to check if two lists have at-least one element common."
   ]
  },
  {
   "cell_type": "code",
   "execution_count": 41,
   "metadata": {},
   "outputs": [
    {
     "name": "stdout",
     "output_type": "stream",
     "text": [
      "Set Have Common Elements.\n"
     ]
    }
   ],
   "source": [
    "l1 = [0,6,2,3,4]\n",
    "l2 = [5,6,7,8,9]\n",
    "s1 = set(l1)\n",
    "s2 = set(l2)\n",
    "union_set = s1.union(s2)\n",
    "length = len(s1)+len(s2)\n",
    "if(len(union_set) == length):\n",
    "    print(\"Set Does Not Have Common Elements.\")\n",
    "else:\n",
    "    print(\"Set Have Common Elements.\")"
   ]
  },
  {
   "cell_type": "markdown",
   "metadata": {},
   "source": [
    "### 06) WAP to remove duplicates from list."
   ]
  },
  {
   "cell_type": "code",
   "execution_count": 43,
   "metadata": {},
   "outputs": [
    {
     "name": "stdout",
     "output_type": "stream",
     "text": [
      "{0, 1, 2, 3, 4}\n"
     ]
    }
   ],
   "source": [
    "l1 = [0,1,2,2,4,4,3]\n",
    "s1 = set(l1)\n",
    "print(s1)"
   ]
  },
  {
   "cell_type": "markdown",
   "metadata": {},
   "source": [
    "### 07) WAP to find unique words in the given string."
   ]
  },
  {
   "cell_type": "code",
   "execution_count": 45,
   "metadata": {},
   "outputs": [
    {
     "name": "stdout",
     "output_type": "stream",
     "text": [
      "{'l', 'o', ' ', 'H', 'y', 'e'}\n"
     ]
    }
   ],
   "source": [
    "String = 'Hello Hy'\n",
    "s1 = set(String)\n",
    "print(s1)"
   ]
  },
  {
   "cell_type": "markdown",
   "metadata": {},
   "source": [
    "### 08) WAP to remove common elements of set A & B from set A."
   ]
  },
  {
   "cell_type": "code",
   "execution_count": 49,
   "metadata": {},
   "outputs": [
    {
     "name": "stdout",
     "output_type": "stream",
     "text": [
      "{1, 3, 4, 5}\n"
     ]
    }
   ],
   "source": [
    "s1 = {1,6,3,4,5}\n",
    "s2 = {6,7,8,9,10}\n",
    "new_s = s1.difference(s2)\n",
    "print(new_s)"
   ]
  },
  {
   "cell_type": "markdown",
   "metadata": {},
   "source": [
    "### 09) WAP to check whether two given strings are anagram or not using set."
   ]
  },
  {
   "cell_type": "code",
   "execution_count": 61,
   "metadata": {},
   "outputs": [
    {
     "name": "stdout",
     "output_type": "stream",
     "text": [
      "String is Not an Anagram.\n"
     ]
    }
   ],
   "source": [
    "Str1 = 'aabaa'\n",
    "Str2 = 'aaaaa'\n",
    "s1 = set(Str1)\n",
    "s2 = set(Str2)\n",
    "for i in Str1:\n",
    "    if (len(s1) != len(s2) and i not in s2):\n",
    "        print(\"String is Not an Anagram.\")\n",
    "        break;\n",
    "else:\n",
    "    print(\"String is an Anagram.\")"
   ]
  },
  {
   "cell_type": "markdown",
   "metadata": {},
   "source": [
    "### 10) WAP to find common elements in three lists using set."
   ]
  },
  {
   "cell_type": "code",
   "execution_count": 67,
   "metadata": {},
   "outputs": [
    {
     "name": "stdout",
     "output_type": "stream",
     "text": [
      "{11, 22}\n"
     ]
    }
   ],
   "source": [
    "l1 = [11,22,33]\n",
    "l2 = [11,55,22]\n",
    "l3 = [11,22,88]\n",
    "s1 = set(l1)\n",
    "s2 = set(l2)\n",
    "s3 = set(l3)\n",
    "new_set = s1.intersection(s2,s3)\n",
    "print(new_set)"
   ]
  },
  {
   "cell_type": "markdown",
   "metadata": {},
   "source": [
    "### 11) WAP to count number of vowels in given string using set."
   ]
  },
  {
   "cell_type": "code",
   "execution_count": 69,
   "metadata": {},
   "outputs": [
    {
     "name": "stdout",
     "output_type": "stream",
     "text": [
      "Count Of Vowels is :  3\n"
     ]
    }
   ],
   "source": [
    "s1 = 'Hello_Hi'\n",
    "set1 = set(s1)\n",
    "count = 0\n",
    "for i in set1:\n",
    "    if(i=='a'or i=='e' or i=='i' or i=='o' or i=='u'):\n",
    "        count += 1\n",
    "print(\"Count Of Vowels is : \",count)"
   ]
  },
  {
   "cell_type": "markdown",
   "metadata": {},
   "source": [
    "### 12) WAP to check if a given string is binary string or not."
   ]
  },
  {
   "cell_type": "code",
   "execution_count": 77,
   "metadata": {},
   "outputs": [
    {
     "name": "stdout",
     "output_type": "stream",
     "text": [
      "String is Binary.\n"
     ]
    }
   ],
   "source": [
    "str1 = '01110'\n",
    "# s1 = set(str1)\n",
    "s2 = {'0','1'}\n",
    "for i in str1:\n",
    "    if(i not in s2):\n",
    "        print(\"String is Not Binary.\")\n",
    "        break\n",
    "else:\n",
    "    print(\"String is Binary.\")"
   ]
  },
  {
   "cell_type": "markdown",
   "metadata": {},
   "source": [
    "### 13) WAP to sort dictionary by key or value."
   ]
  },
  {
   "cell_type": "code",
   "execution_count": 103,
   "metadata": {},
   "outputs": [
    {
     "name": "stdout",
     "output_type": "stream",
     "text": [
      "['name1', 'name2', 'name3', 'name4']\n",
      "[101, 102, 103, 104]\n"
     ]
    }
   ],
   "source": [
    "d1 = {'name1':101,'name3':102,'name2':104,'name4':103}\n",
    "# for i in d1:\n",
    "#     print(d1[i],\" is \",i)\n",
    "\n",
    "# Sort By Keys...\n",
    "l1 = list(d1.keys())\n",
    "l1.sort()\n",
    "print(l1)\n",
    "\n",
    "# Sort By Values...\n",
    "l2 = list(d1.values())\n",
    "l2.sort()\n",
    "print(l2)"
   ]
  },
  {
   "cell_type": "markdown",
   "metadata": {},
   "source": [
    "### 14) WAP to find the sum of all items (values) in a dictionary given by user. (Assume: values are numeric)"
   ]
  },
  {
   "cell_type": "code",
   "execution_count": 107,
   "metadata": {},
   "outputs": [
    {
     "name": "stdout",
     "output_type": "stream",
     "text": [
      "Sum Of All The Elements is :  10\n"
     ]
    }
   ],
   "source": [
    "d1 = {'name1':1,'name3':2,'name2':4,'name4':3}\n",
    "l1 = list(d1.values())\n",
    "ans = 0\n",
    "for i in l1:\n",
    "    ans += i\n",
    "print(\"Sum Of All The Elements is : \",ans)"
   ]
  },
  {
   "cell_type": "markdown",
   "metadata": {},
   "source": [
    "### 15) WAP to handle missing keys in dictionaries.\n",
    "#### Example : Given, dict1 = {'a': 5, 'c': 8, 'e': 2} \n",
    "#### if you look for key = 'd', the message given should be 'Key Not Found', otherwise print the value of 'd' in dict1."
   ]
  },
  {
   "cell_type": "code",
   "execution_count": 149,
   "metadata": {},
   "outputs": [
    {
     "name": "stdin",
     "output_type": "stream",
     "text": [
      "Enter Key For Search :  a\n"
     ]
    },
    {
     "name": "stdout",
     "output_type": "stream",
     "text": [
      "5\n",
      "Key Founded.\n"
     ]
    }
   ],
   "source": [
    "dict1 = {'a': 5, 'c': 8, 'e': 2}\n",
    "key = input(\"Enter Key For Search : \")\n",
    "if key in dict1.keys():\n",
    "    print(dict1[key])\n",
    "    print(\"Key Founded.\")\n",
    "else:\n",
    "    print(\"Key Not Found.\")"
   ]
  },
  {
   "cell_type": "code",
   "execution_count": null,
   "metadata": {},
   "outputs": [],
   "source": []
  }
 ],
 "metadata": {
  "kernelspec": {
   "display_name": "Python 3 (ipykernel)",
   "language": "python",
   "name": "python3"
  },
  "language_info": {
   "codemirror_mode": {
    "name": "ipython",
    "version": 3
   },
   "file_extension": ".py",
   "mimetype": "text/x-python",
   "name": "python",
   "nbconvert_exporter": "python",
   "pygments_lexer": "ipython3",
   "version": "3.12.7"
  }
 },
 "nbformat": 4,
 "nbformat_minor": 4
}
