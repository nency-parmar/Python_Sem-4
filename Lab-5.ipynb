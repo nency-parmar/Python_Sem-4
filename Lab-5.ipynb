{
 "cells": [
  {
   "cell_type": "markdown",
   "metadata": {},
   "source": [
    "\n",
    "<a href='https://www.darshan.ac.in/'> <img src='https://www.darshan.ac.in/Content/media/DU_Logo.svg' width=\"250\" height=\"300\"/></a>\n",
    "<pre>\n",
    "<center><b><h1>Python Programming - 2301CS404</b></center>\n",
    "<center><b><h1>Lab - 5</b></center>    \n",
    "<pre>"
   ]
  },
  {
   "cell_type": "markdown",
   "metadata": {},
   "source": [
    "# List"
   ]
  },
  {
   "cell_type": "markdown",
   "metadata": {},
   "source": [
    "### 01) WAP to find sum of all the elements in a List."
   ]
  },
  {
   "cell_type": "code",
   "execution_count": 6,
   "metadata": {},
   "outputs": [
    {
     "name": "stdin",
     "output_type": "stream",
     "text": [
      "Enter Length of List :  2\n",
      "Enter an Elements in List :  3\n",
      "Enter an Elements in List :  4\n"
     ]
    },
    {
     "name": "stdout",
     "output_type": "stream",
     "text": [
      "List is :  [3, 4]\n",
      "Sum of Elements in the list: 7\n"
     ]
    }
   ],
   "source": [
    "li = []\n",
    "n = int(input(\"Enter Length of List : \"))\n",
    "for i in range(0,n):\n",
    "    ele = int(input(\"Enter an Elements in List : \"))\n",
    "    li.append(ele)\n",
    "print(\"List is : \",li)\n",
    "\n",
    "ans = sum(li)\n",
    "print(\"Sum of Elements in the list:\",ans)"
   ]
  },
  {
   "cell_type": "markdown",
   "metadata": {},
   "source": [
    "### 02) WAP to find largest element in a List."
   ]
  },
  {
   "cell_type": "code",
   "execution_count": 27,
   "metadata": {},
   "outputs": [
    {
     "name": "stdin",
     "output_type": "stream",
     "text": [
      "Enter Length of List :  6\n",
      "Enter an Elements in List :  2\n",
      "Enter an Elements in List :  4\n",
      "Enter an Elements in List :  8\n",
      "Enter an Elements in List :  9\n",
      "Enter an Elements in List :  10\n",
      "Enter an Elements in List :  3\n"
     ]
    },
    {
     "name": "stdout",
     "output_type": "stream",
     "text": [
      "List is :  [2, 4, 8, 9, 10, 3]\n",
      "Largest Element is :  10\n"
     ]
    }
   ],
   "source": [
    "li = []\n",
    "n = int(input(\"Enter Length of List : \"))\n",
    "for i in range(0,n):\n",
    "    ele = int(input(\"Enter an Elements in List : \"))\n",
    "    li.append(ele)\n",
    "print(\"List is : \",li)\n",
    "ans = 0\n",
    "for i in li:\n",
    "    for j in li:\n",
    "        if(j > i):\n",
    "            ans = j\n",
    "print(\"Largest Element is : \",ans)"
   ]
  },
  {
   "cell_type": "markdown",
   "metadata": {},
   "source": [
    "### 03) WAP to find the length of a List."
   ]
  },
  {
   "cell_type": "code",
   "execution_count": 45,
   "metadata": {},
   "outputs": [
    {
     "name": "stdin",
     "output_type": "stream",
     "text": [
      "Enter an Elements in List :  2\n"
     ]
    },
    {
     "name": "stdout",
     "output_type": "stream",
     "text": [
      "Enter -1 to Break :\n"
     ]
    },
    {
     "name": "stdin",
     "output_type": "stream",
     "text": [
      "Enter an Elements in List :  3\n"
     ]
    },
    {
     "name": "stdout",
     "output_type": "stream",
     "text": [
      "Enter -1 to Break :\n"
     ]
    },
    {
     "name": "stdin",
     "output_type": "stream",
     "text": [
      "Enter an Elements in List :  4\n"
     ]
    },
    {
     "name": "stdout",
     "output_type": "stream",
     "text": [
      "Enter -1 to Break :\n"
     ]
    },
    {
     "name": "stdin",
     "output_type": "stream",
     "text": [
      "Enter an Elements in List :  -1\n"
     ]
    },
    {
     "name": "stdout",
     "output_type": "stream",
     "text": [
      "Enter -1 to Break :\n",
      "List is :  [2, 3, 4]\n",
      "Count of List is :  3\n"
     ]
    }
   ],
   "source": [
    "li = []\n",
    "while(True):\n",
    "    ele = int(input(\"Enter an Elements in List : \"))\n",
    "    print(\"Enter -1 to Break :\")\n",
    "    if(ele == -1):\n",
    "        break \n",
    "    li.append(ele)\n",
    "print(\"List is : \",li)\n",
    "count = 0\n",
    "for i in li:\n",
    "    count += 1\n",
    "print(\"Count of List is : \",count)"
   ]
  },
  {
   "cell_type": "markdown",
   "metadata": {},
   "source": [
    "### 04) WAP to interchange first and last elements in a list."
   ]
  },
  {
   "cell_type": "code",
   "execution_count": 53,
   "metadata": {},
   "outputs": [
    {
     "name": "stdin",
     "output_type": "stream",
     "text": [
      "Enter Length of List :  5\n",
      "Enter an Elements in List :  2\n",
      "Enter an Elements in List :  3\n",
      "Enter an Elements in List :  1\n",
      "Enter an Elements in List :  6\n",
      "Enter an Elements in List :  8\n"
     ]
    },
    {
     "name": "stdout",
     "output_type": "stream",
     "text": [
      "List is :  [2, 3, 1, 6, 8]\n",
      "New List is :  [8, 3, 1, 6, 2]\n"
     ]
    }
   ],
   "source": [
    "li = []\n",
    "n = int(input(\"Enter Length of List : \"))\n",
    "for i in range(0,n):\n",
    "    ele = int(input(\"Enter an Elements in List : \"))\n",
    "    li.append(ele)\n",
    "print(\"List is : \",li)\n",
    "temp = li[n-1]\n",
    "li[n-1] = li[0]\n",
    "li[0] = temp\n",
    "print(\"New List is : \",li)"
   ]
  },
  {
   "cell_type": "markdown",
   "metadata": {},
   "source": [
    "### 05) WAP to split the List into two parts and append the first part to the end."
   ]
  },
  {
   "cell_type": "code",
   "execution_count": 71,
   "metadata": {},
   "outputs": [
    {
     "name": "stdin",
     "output_type": "stream",
     "text": [
      "Enter Length of List :  4\n",
      "Enter an Elements in List :  2\n",
      "Enter an Elements in List :  3\n",
      "Enter an Elements in List :  1\n",
      "Enter an Elements in List :  4\n"
     ]
    },
    {
     "name": "stdout",
     "output_type": "stream",
     "text": [
      "List is :  [2, 3, 1, 4]\n",
      "[2, 3]\n",
      "[1, 4]\n",
      "New Split List is :  [1, 4, 2, 3]\n"
     ]
    }
   ],
   "source": [
    "li = []\n",
    "n = int(input(\"Enter Length of List : \"))\n",
    "for i in range(0,n):\n",
    "    ele = int(input(\"Enter an Elements in List : \"))\n",
    "    li.append(ele)\n",
    "print(\"List is : \",li)\n",
    "l1 = []\n",
    "l2 =[]\n",
    "for i in range(0,int(n/2)):\n",
    "    l1.append(li[i])\n",
    "for i in range(int(n/2),n):\n",
    "    l2.append(li[i])\n",
    "print(l1)\n",
    "print(l2)\n",
    "new_li = l2+l1\n",
    "print(\"New Split List is : \",new_li)"
   ]
  },
  {
   "cell_type": "markdown",
   "metadata": {},
   "source": [
    "### 06) WAP to interchange the elements on two positions entered by a user."
   ]
  },
  {
   "cell_type": "code",
   "execution_count": 75,
   "metadata": {},
   "outputs": [
    {
     "name": "stdin",
     "output_type": "stream",
     "text": [
      "Enter Length of List :  4\n",
      "Enter an Elements in List :  2\n",
      "Enter an Elements in List :  3\n",
      "Enter an Elements in List :  5\n",
      "Enter an Elements in List :  1\n"
     ]
    },
    {
     "name": "stdout",
     "output_type": "stream",
     "text": [
      "List is :  [2, 3, 5, 1]\n"
     ]
    },
    {
     "name": "stdin",
     "output_type": "stream",
     "text": [
      "Enter 1st Any Position :  1\n",
      "Enter 2nd Any Position :  2\n"
     ]
    },
    {
     "name": "stdout",
     "output_type": "stream",
     "text": [
      "New Interchanged List is :  [2, 5, 3, 1]\n"
     ]
    }
   ],
   "source": [
    "li = []\n",
    "n = int(input(\"Enter Length of List : \"))\n",
    "for i in range(0,n):\n",
    "    ele = int(input(\"Enter an Elements in List : \"))\n",
    "    li.append(ele)\n",
    "print(\"List is : \",li)\n",
    "a = int(input(\"Enter 1st Any Position : \"))\n",
    "b = int(input(\"Enter 2nd Any Position : \"))\n",
    "temp = li[b]\n",
    "li[b] = li[a]\n",
    "li[a] = temp\n",
    "print(\"New Interchanged List is : \",li)"
   ]
  },
  {
   "cell_type": "markdown",
   "metadata": {},
   "source": [
    "### 07) WAP to reverse the list entered by user."
   ]
  },
  {
   "cell_type": "code",
   "execution_count": 91,
   "metadata": {},
   "outputs": [
    {
     "name": "stdin",
     "output_type": "stream",
     "text": [
      "Enter Length of List :  6\n",
      "Enter an Elements in List :  3\n",
      "Enter an Elements in List :  3\n",
      "Enter an Elements in List :  2\n",
      "Enter an Elements in List :  14\n",
      "Enter an Elements in List :  5\n",
      "Enter an Elements in List :  6\n"
     ]
    },
    {
     "name": "stdout",
     "output_type": "stream",
     "text": [
      "List is :  [3, 3, 2, 14, 5, 6]\n",
      "Reversed List is :  [6, 5, 14, 2, 3, 3]\n"
     ]
    }
   ],
   "source": [
    "li = []\n",
    "n = int(input(\"Enter Length of List : \"))\n",
    "for i in range(0,n):\n",
    "    ele = int(input(\"Enter an Elements in List : \"))\n",
    "    li.append(ele)\n",
    "print(\"List is : \",li)\n",
    "\n",
    "# Without Logic...\n",
    "# li.reverse()\n",
    "# print(\"Reversed List is : \",li)\n",
    "\n",
    "# With Logic\n",
    "l1 = []\n",
    "for i in range((n-1),-1,-1):\n",
    "    l1.append(li[i])\n",
    "print(\"Reversed List is : \",l1)"
   ]
  },
  {
   "cell_type": "markdown",
   "metadata": {},
   "source": [
    "### 08) WAP to print even numbers in a list."
   ]
  },
  {
   "cell_type": "code",
   "execution_count": 99,
   "metadata": {},
   "outputs": [
    {
     "name": "stdin",
     "output_type": "stream",
     "text": [
      "Enter Length of List :  4\n",
      "Enter an Elements in List :  3\n",
      "Enter an Elements in List :  2\n",
      "Enter an Elements in List :  1\n",
      "Enter an Elements in List :  4\n"
     ]
    },
    {
     "name": "stdout",
     "output_type": "stream",
     "text": [
      "List is :  [3, 2, 1, 4]\n",
      "Even Number List :  [2, 4]\n"
     ]
    }
   ],
   "source": [
    "li = []\n",
    "n = int(input(\"Enter Length of List : \"))\n",
    "for i in range(0,n):\n",
    "    ele = int(input(\"Enter an Elements in List : \"))\n",
    "    li.append(ele)\n",
    "print(\"List is : \",li)\n",
    "l1 = []\n",
    "for i in range(0,n):\n",
    "    if(li[i]%2 == 0):\n",
    "        l1.append(li[i])\n",
    "print(\"Even Number List : \",l1)"
   ]
  },
  {
   "cell_type": "markdown",
   "metadata": {},
   "source": [
    "### 09) WAP to count unique items in a list."
   ]
  },
  {
   "cell_type": "code",
   "execution_count": 101,
   "metadata": {},
   "outputs": [
    {
     "name": "stdin",
     "output_type": "stream",
     "text": [
      "Enter Length of List :  6\n",
      "Enter an Elements in List :  2\n",
      "Enter an Elements in List :  2\n",
      "Enter an Elements in List :  3\n",
      "Enter an Elements in List :  4\n",
      "Enter an Elements in List :  5\n",
      "Enter an Elements in List :  5\n"
     ]
    },
    {
     "name": "stdout",
     "output_type": "stream",
     "text": [
      "List is :  [2, 2, 3, 4, 5, 5]\n",
      "New List is :  [2, 3, 4, 5]\n"
     ]
    }
   ],
   "source": [
    "li = []\n",
    "n = int(input(\"Enter Length of List : \"))\n",
    "for i in range(0,n):\n",
    "    ele = int(input(\"Enter an Elements in List : \"))\n",
    "    li.append(ele)\n",
    "print(\"List is : \",li)\n",
    "l1 = []\n",
    "for i in li:\n",
    "    if i not in l1:\n",
    "        l1.append(i)\n",
    "print(\"New List is : \",l1)"
   ]
  },
  {
   "cell_type": "markdown",
   "metadata": {},
   "source": [
    "### 10) WAP to copy a list."
   ]
  },
  {
   "cell_type": "code",
   "execution_count": 105,
   "metadata": {},
   "outputs": [
    {
     "name": "stdin",
     "output_type": "stream",
     "text": [
      "Enter Length of List :  5\n",
      "Enter an Elements in List :  4\n",
      "Enter an Elements in List :  3\n",
      "Enter an Elements in List :  2\n",
      "Enter an Elements in List :  5\n",
      "Enter an Elements in List :  6\n"
     ]
    },
    {
     "name": "stdout",
     "output_type": "stream",
     "text": [
      "List is :  [4, 3, 2, 5, 6]\n",
      "Copied List is :  [4, 3, 2, 5, 6]\n"
     ]
    }
   ],
   "source": [
    "li = []\n",
    "n = int(input(\"Enter Length of List : \"))\n",
    "for i in range(0,n):\n",
    "    ele = int(input(\"Enter an Elements in List : \"))\n",
    "    li.append(ele)\n",
    "print(\"List is : \",li)\n",
    "li_copy = []\n",
    "for i in range(0,n):\n",
    "    li_copy.append(li[i])\n",
    "print(\"Copied List is : \",li_copy)"
   ]
  },
  {
   "cell_type": "markdown",
   "metadata": {},
   "source": [
    "### 11) WAP to print all odd numbers in a given range."
   ]
  },
  {
   "cell_type": "code",
   "execution_count": 6,
   "metadata": {},
   "outputs": [
    {
     "name": "stdin",
     "output_type": "stream",
     "text": [
      "Enter 1st Number :  1\n",
      "Enter 2nd Number :  10\n"
     ]
    },
    {
     "name": "stdout",
     "output_type": "stream",
     "text": [
      "All The Odd Numbers Between  1  &  10  is : \n",
      "1\n",
      "3\n",
      "5\n",
      "7\n",
      "9\n"
     ]
    }
   ],
   "source": [
    "a = int(input(\"Enter 1st Number : \"))\n",
    "b = int(input(\"Enter 2nd Number : \"))\n",
    "print(\"All The Odd Numbers Between \",a,\" & \",b,\" is : \")\n",
    "for i in range(a,b+1):\n",
    "    if(i%2 != 0):\n",
    "        print(i)"
   ]
  },
  {
   "cell_type": "markdown",
   "metadata": {},
   "source": [
    "### 12) WAP to count occurrences of an element in a list."
   ]
  },
  {
   "cell_type": "code",
   "execution_count": 5,
   "metadata": {},
   "outputs": [
    {
     "name": "stdin",
     "output_type": "stream",
     "text": [
      "Enter Length of List:  5\n",
      "Enter an element in the list:  1\n",
      "Enter an element in the list:  1\n",
      "Enter an element in the list:  4\n",
      "Enter an element in the list:  3\n",
      "Enter an element in the list:  4\n"
     ]
    },
    {
     "name": "stdout",
     "output_type": "stream",
     "text": [
      "List is: [1, 1, 4, 3, 4]\n",
      "Occurrences of elements: {1: 2, 4: 2, 3: 1}\n"
     ]
    }
   ],
   "source": [
    "li = []\n",
    "n = int(input(\"Enter Length of List: \"))\n",
    "for i in range(n):\n",
    "    ele = int(input(\"Enter an element in the list: \"))\n",
    "    li.append(ele)\n",
    "print(\"List is:\", li)\n",
    "l1 = {}\n",
    "for i in li:\n",
    "    if i not in l1:\n",
    "        l1[i] = 1    \n",
    "    else:\n",
    "        l1[i] += 1\n",
    "print(\"Occurrences of elements:\", l1)"
   ]
  },
  {
   "cell_type": "markdown",
   "metadata": {},
   "source": [
    "### 13) WAP to find second largest number in a list."
   ]
  },
  {
   "cell_type": "code",
   "execution_count": 7,
   "metadata": {},
   "outputs": [
    {
     "name": "stdin",
     "output_type": "stream",
     "text": [
      "Enter Length of List:  4\n",
      "Enter an element in the list:  4\n",
      "Enter an element in the list:  7\n",
      "Enter an element in the list:  8\n",
      "Enter an element in the list:  10\n"
     ]
    },
    {
     "name": "stdout",
     "output_type": "stream",
     "text": [
      "List is: [4, 7, 8, 10]\n",
      "The second largest number is: 8\n"
     ]
    }
   ],
   "source": [
    "li = []\n",
    "n = int(input(\"Enter Length of List: \"))\n",
    "for i in range(n):\n",
    "    ele = int(input(\"Enter an element in the list: \"))\n",
    "    li.append(ele)\n",
    "print(\"List is:\", li)\n",
    "\n",
    "li.sort()\n",
    "if len(li) < 2:\n",
    "    print(\"There is no second largest number.\")\n",
    "else:\n",
    "    largest = li[-1]\n",
    "    for i in range(len(li)-2), -1, -1):\n",
    "        if li[i] != largest:\n",
    "            second_largest = li[i]\n",
    "            print(\"The second largest number is:\", second_largest)\n",
    "            break\n",
    "    else:\n",
    "        print(\"All elements are the same. No second largest number.\")"
   ]
  },
  {
   "cell_type": "markdown",
   "metadata": {},
   "source": [
    "### 14) WAP to extract elements with frequency greater than K."
   ]
  },
  {
   "cell_type": "code",
   "execution_count": 13,
   "metadata": {},
   "outputs": [
    {
     "name": "stdin",
     "output_type": "stream",
     "text": [
      "Enter k: 1\n"
     ]
    },
    {
     "name": "stdout",
     "output_type": "stream",
     "text": [
      "[1, 22, 2]\n"
     ]
    }
   ],
   "source": [
    "l=[1,22,22,22,22,2,2,1]\n",
    "l1=[]\n",
    "k=int(input(\"Enter k:\"))\n",
    "for i in l:\n",
    "    if((l.count(i)>k) and (i not in l1)):\n",
    "        l1.append(i)\n",
    "print(l1)"
   ]
  },
  {
   "cell_type": "markdown",
   "metadata": {},
   "source": [
    "### 15) WAP to create a list of squared numbers from 0 to 9 with and without using List Comprehension."
   ]
  },
  {
   "cell_type": "code",
   "execution_count": 9,
   "metadata": {},
   "outputs": [
    {
     "name": "stdout",
     "output_type": "stream",
     "text": [
      "[0, 1, 4, 9, 16, 25, 36, 49, 64, 81]\n"
     ]
    }
   ],
   "source": [
    "l1 = []\n",
    "for i in range(0,10):\n",
    "    l1.append(i**2)\n",
    "print(l1)"
   ]
  },
  {
   "cell_type": "markdown",
   "metadata": {},
   "source": [
    "### 16) WAP to create a new list (fruit whose name starts with 'b') from the list of fruits given by user."
   ]
  },
  {
   "cell_type": "code",
   "execution_count": 7,
   "metadata": {},
   "outputs": [
    {
     "name": "stdin",
     "output_type": "stream",
     "text": [
      "Enter 1st fruit: Apple\n",
      "Enter 2nd fruit: Strawberry\n",
      "Enter 3rd fruit: Mango\n",
      "Enter 4th fruit: Cherry\n"
     ]
    },
    {
     "name": "stdout",
     "output_type": "stream",
     "text": [
      "['Strawberry']\n"
     ]
    }
   ],
   "source": [
    "a=input(\"Enter 1st fruit:\")\n",
    "b=input(\"Enter 2nd fruit:\")\n",
    "c=input(\"Enter 3rd fruit:\")\n",
    "d=input(\"Enter 4th fruit:\")\n",
    "l1=[a,b,c,d]\n",
    "l2=[]\n",
    "l3=[]\n",
    "for i in l1:\n",
    "   if i.startswith('S'):\n",
    "       l2.append(i)\n",
    "   else:\n",
    "       l3.append(i)\n",
    "print(l2)"
   ]
  },
  {
   "cell_type": "markdown",
   "metadata": {},
   "source": [
    "### 17) WAP to create a list of common elements from given two lists."
   ]
  },
  {
   "cell_type": "code",
   "execution_count": 1,
   "metadata": {},
   "outputs": [
    {
     "name": "stdout",
     "output_type": "stream",
     "text": [
      "[2, 5, 6]\n"
     ]
    }
   ],
   "source": [
    "l1=[1,2,3,4,5,6]\n",
    "l2=[2,5,6,7,8,9]\n",
    "l3=[]\n",
    "for i in l1:\n",
    "    if i in l2:\n",
    "        l3.append(i)\n",
    "print(l3)"
   ]
  }
 ],
 "metadata": {
  "kernelspec": {
   "display_name": "Python 3 (ipykernel)",
   "language": "python",
   "name": "python3"
  },
  "language_info": {
   "codemirror_mode": {
    "name": "ipython",
    "version": 3
   },
   "file_extension": ".py",
   "mimetype": "text/x-python",
   "name": "python",
   "nbconvert_exporter": "python",
   "pygments_lexer": "ipython3",
   "version": "3.12.7"
  }
 },
 "nbformat": 4,
 "nbformat_minor": 4
}
