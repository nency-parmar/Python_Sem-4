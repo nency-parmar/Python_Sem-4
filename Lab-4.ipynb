{
 "cells": [
  {
   "cell_type": "markdown",
   "metadata": {},
   "source": [
    "\n",
    "<a href='https://www.darshan.ac.in/'> <img src='https://www.darshan.ac.in/Content/media/DU_Logo.svg' width=\"250\" height=\"300\"/></a>\n",
    "<pre>\n",
    "<center><b><h1>Python Programming - 2301CS404</b></center>\n",
    "<center><b><h1>Lab - 4</b></center>    \n",
    "<center><b><h1>Nency Parmar | 23010101193 | </b></center>    \n",
    "<pre>"
   ]
  },
  {
   "cell_type": "code",
   "execution_count": null,
   "metadata": {},
   "outputs": [],
   "source": []
  },
  {
   "cell_type": "markdown",
   "metadata": {},
   "source": [
    "# String"
   ]
  },
  {
   "cell_type": "markdown",
   "metadata": {},
   "source": [
    "### 01) WAP to check whether the given string is palindrome or not."
   ]
  },
  {
   "cell_type": "code",
   "execution_count": 3,
   "metadata": {},
   "outputs": [
    {
     "name": "stdin",
     "output_type": "stream",
     "text": [
      "Enter a String :  abca\n"
     ]
    },
    {
     "name": "stdout",
     "output_type": "stream",
     "text": [
      "Striing is Not Palindrom.\n"
     ]
    }
   ],
   "source": [
    "str = input(\"Enter a String : \")\n",
    "if(str == str[::-1]):\n",
    "    print(\"String is Palindrom.\")\n",
    "else:\n",
    "    print(\"Striing is Not Palindrom.\")"
   ]
  },
  {
   "cell_type": "markdown",
   "metadata": {},
   "source": [
    "### 02) WAP to reverse the words in the given string."
   ]
  },
  {
   "cell_type": "code",
   "execution_count": 9,
   "metadata": {},
   "outputs": [
    {
     "name": "stdin",
     "output_type": "stream",
     "text": [
      "Enter a String :  Hello Hi\n"
     ]
    },
    {
     "name": "stdout",
     "output_type": "stream",
     "text": [
      "['Hello', 'Hi']\n",
      "New Reverse String is :  ['Hi', 'Hello']\n"
     ]
    }
   ],
   "source": [
    "str = input(\"Enter a String : \")\n",
    "split_str = str.split();\n",
    "print(split_str);\n",
    "new_str = split_str[::-1]\n",
    "print(\"New Reverse String is : \",new_str)"
   ]
  },
  {
   "cell_type": "markdown",
   "metadata": {},
   "source": [
    "### 03) WAP to remove ith character from given string."
   ]
  },
  {
   "cell_type": "code",
   "execution_count": 19,
   "metadata": {},
   "outputs": [
    {
     "name": "stdin",
     "output_type": "stream",
     "text": [
      "Enter a String :  Nency\n"
     ]
    },
    {
     "name": "stdout",
     "output_type": "stream",
     "text": [
      "Nency\n"
     ]
    },
    {
     "name": "stdin",
     "output_type": "stream",
     "text": [
      "Enter a Character That You Want to Remove :  c\n"
     ]
    },
    {
     "name": "stdout",
     "output_type": "stream",
     "text": [
      "Neny\n"
     ]
    }
   ],
   "source": [
    "str = input(\"Enter a String : \")\n",
    "print(str)\n",
    "char = input(\"Enter a Character That You Want to Remove : \")\n",
    "for i in range(len(str)):\n",
    "    if(str[i] == char):\n",
    "        new_str = str[:i] + str[i+1:]\n",
    "print(new_str)"
   ]
  },
  {
   "cell_type": "markdown",
   "metadata": {},
   "source": [
    "### 04) WAP to find length of string without using len function."
   ]
  },
  {
   "cell_type": "code",
   "execution_count": 27,
   "metadata": {},
   "outputs": [
    {
     "name": "stdin",
     "output_type": "stream",
     "text": [
      "Enter a String :  Hi Hello How Are You\n"
     ]
    },
    {
     "name": "stdout",
     "output_type": "stream",
     "text": [
      "Lenght of String is :  20\n"
     ]
    }
   ],
   "source": [
    "str = input(\"Enter a String : \")\n",
    "count = 0\n",
    "for i in range(len(str)):\n",
    "    count = count + 1;\n",
    "print(\"Lenght of String is : \",count)"
   ]
  },
  {
   "cell_type": "markdown",
   "metadata": {},
   "source": [
    "### 05) WAP to print even length word in string."
   ]
  },
  {
   "cell_type": "code",
   "execution_count": 33,
   "metadata": {},
   "outputs": [
    {
     "name": "stdin",
     "output_type": "stream",
     "text": [
      "Enter a String :  Helo Hi I am From Morbi\n"
     ]
    },
    {
     "name": "stdout",
     "output_type": "stream",
     "text": [
      "Even Length Word : \n",
      "Helo\n",
      "Hi\n",
      "am\n",
      "From\n"
     ]
    }
   ],
   "source": [
    "str = input(\"Enter a String : \")\n",
    "split_str = str.split()\n",
    "print(\"Even Length Word : \")\n",
    "for i in range(len(split_str)):\n",
    "    if(len(split_str[i]) % 2 == 0):\n",
    "        print(split_str[i])"
   ]
  },
  {
   "cell_type": "markdown",
   "metadata": {},
   "source": [
    "### 06) WAP to count numbers of vowels in given string."
   ]
  },
  {
   "cell_type": "code",
   "execution_count": 37,
   "metadata": {},
   "outputs": [
    {
     "name": "stdin",
     "output_type": "stream",
     "text": [
      "Enter a String :  Helo\n"
     ]
    },
    {
     "name": "stdout",
     "output_type": "stream",
     "text": [
      "Lenght of Vowels in Given String is :  2\n"
     ]
    }
   ],
   "source": [
    "str = input(\"Enter a String : \")\n",
    "count = 0\n",
    "for i in range(len(str)):\n",
    "    if(str[i] == 'a'or str[i] == 'e' or str[i] == 'o' or str[i] == 'u' or str[i] == 'i'or\n",
    "       str[i] == 'A'or str[i] == 'E' or str[i] == 'I' or str[i] == 'O' or str[i] == 'U'):\n",
    "        count = count + 1\n",
    "print(\"Lenght of Vowels in Given String is : \",count)"
   ]
  },
  {
   "cell_type": "markdown",
   "metadata": {},
   "source": [
    "### 07) WAP to capitalize the first and last character of each word in a string."
   ]
  },
  {
   "cell_type": "code",
   "execution_count": 1,
   "metadata": {},
   "outputs": [
    {
     "name": "stdin",
     "output_type": "stream",
     "text": [
      "Enter a String:  hello hi I am\n"
     ]
    },
    {
     "name": "stdout",
     "output_type": "stream",
     "text": [
      "New Capitalized String is: HellO HI I AM\n"
     ]
    }
   ],
   "source": [
    "str_input = input(\"Enter a String: \")\n",
    "split_str = str_input.split()\n",
    "new_str = []\n",
    "for word in split_str:\n",
    "    if len(word) > 1:\n",
    "        capitalized_word = word[0].upper() + word[1:-1] + word[-1].upper()\n",
    "    else:\n",
    "        capitalized_word = word.upper()\n",
    "    new_str.append(capitalized_word)\n",
    "result = \" \".join(new_str)\n",
    "print(\"New Capitalized String is:\", result)"
   ]
  },
  {
   "cell_type": "markdown",
   "metadata": {},
   "source": [
    "08) WAP to convert given array to String."
   ]
  },
  {
   "cell_type": "code",
   "execution_count": 3,
   "metadata": {},
   "outputs": [
    {
     "name": "stdin",
     "output_type": "stream",
     "text": [
      "Enter the length for array: 3\n",
      "Enter element 1\n",
      "Enter element 2\n",
      "Enter element 3\n"
     ]
    },
    {
     "name": "stdout",
     "output_type": "stream",
     "text": [
      "123\n"
     ]
    }
   ],
   "source": [
    "n = int(input(\"Enter the length for array:\"))\n",
    "arr=[]\n",
    "str=\"\"\n",
    "for i in range(n):\n",
    "    i=int(input(\"Enter element\"))\n",
    "    arr.append(i)\n",
    "    \n",
    "for i in arr:\n",
    "    str+=\"{}\".format(i)\n",
    "print(str)"
   ]
  },
  {
   "cell_type": "markdown",
   "metadata": {},
   "source": [
    "### 09) Check if the password and confirm password is same or not. \n",
    "### In case of only case's mistake, show the error message."
   ]
  },
  {
   "cell_type": "code",
   "execution_count": 7,
   "metadata": {},
   "outputs": [
    {
     "name": "stdin",
     "output_type": "stream",
     "text": [
      "Enter the password:  Hello123\n",
      "Enter the confirm password:  hello123\n"
     ]
    },
    {
     "name": "stdout",
     "output_type": "stream",
     "text": [
      "Passwords do not matched due to case sensitivity.\n"
     ]
    }
   ],
   "source": [
    "password = input(\"Enter the password: \")\n",
    "confirm_password = input(\"Enter the confirm password: \")\n",
    "\n",
    "if password == confirm_password:\n",
    "    print(\"Passwords matched.\")\n",
    "elif password.lower() == confirm_password.lower():\n",
    "    print(\"Passwords do not matched due to case sensitivity.\")\n",
    "else:\n",
    "    print(\"Passwords do not matched.\")"
   ]
  },
  {
   "cell_type": "markdown",
   "metadata": {},
   "source": [
    "### 10) : Display credit card number. \n",
    "### card no. : 1234 5678 9012 3456\n",
    "### display as  : **** **** **** 3456"
   ]
  },
  {
   "cell_type": "code",
   "execution_count": null,
   "metadata": {},
   "outputs": [],
   "source": [
    "card_number = input(\"Enter the credit card number (16 digits): \")\n",
    "\n",
    "masked_card_number = \"**** **** **** \" + card_number[-4:]\n",
    "print(\"Masked Card Number:\", masked_card_number)"
   ]
  },
  {
   "cell_type": "markdown",
   "metadata": {},
   "source": [
    "### 11) : Checking if the two strings are Anagram or not.\n",
    "### s1 = decimal and s2 = medical are Anagram"
   ]
  },
  {
   "cell_type": "code",
   "execution_count": 3,
   "metadata": {},
   "outputs": [
    {
     "name": "stdin",
     "output_type": "stream",
     "text": [
      "Enter the first string:  decimal\n",
      "Enter the second string:  medical\n"
     ]
    },
    {
     "name": "stdout",
     "output_type": "stream",
     "text": [
      "decimal  and  medical  are anagrams.\n"
     ]
    }
   ],
   "source": [
    "s1 = input(\"Enter the first string: \")\n",
    "s2 = input(\"Enter the second string: \")\n",
    "\n",
    "s1 = s1.replace(\" \", \"\").lower()\n",
    "s2 = s2.replace(\" \", \"\").lower()\n",
    "if sorted(s1) == sorted(s2):\n",
    "    print(s1,\" and \",s2,\" are anagrams.\")\n",
    "else:\n",
    "    print(s1,\" and \",s2,\" are not an anagrams.\")"
   ]
  },
  {
   "cell_type": "markdown",
   "metadata": {},
   "source": [
    "### 12) : Rearrange the given string. First lowercase then uppercase alphabets.\n",
    "### input : EHlsarwiwhtwMV\n",
    "### output : lsarwiwhtwEHMV"
   ]
  },
  {
   "cell_type": "code",
   "execution_count": 3,
   "metadata": {},
   "outputs": [
    {
     "name": "stdin",
     "output_type": "stream",
     "text": [
      "Enter a String :  EHlsarwiwhtwMV\n"
     ]
    },
    {
     "name": "stdout",
     "output_type": "stream",
     "text": [
      "first lowercase then uppercase :  lsarwiwhtw EHMV\n"
     ]
    }
   ],
   "source": [
    "s=input(\"Enter a String : \")\n",
    "lower =' ' \n",
    "upper=' '\n",
    "for i in s :\n",
    "    if i.islower():\n",
    "        lower += i\n",
    "    else:\n",
    "        upper += i\n",
    "print(\"first lowercase then uppercase :\",lower+upper)"
   ]
  },
  {
   "cell_type": "code",
   "execution_count": null,
   "metadata": {},
   "outputs": [],
   "source": []
  }
 ],
 "metadata": {
  "kernelspec": {
   "display_name": "Python 3 (ipykernel)",
   "language": "python",
   "name": "python3"
  },
  "language_info": {
   "codemirror_mode": {
    "name": "ipython",
    "version": 3
   },
   "file_extension": ".py",
   "mimetype": "text/x-python",
   "name": "python",
   "nbconvert_exporter": "python",
   "pygments_lexer": "ipython3",
   "version": "3.12.7"
  },
  "vscode": {
   "interpreter": {
    "hash": "31f2aee4e71d21fbe5cf8b01ff0e069b9275f58929596ceb00d14d90e3e16cd6"
   }
  }
 },
 "nbformat": 4,
 "nbformat_minor": 4
}
