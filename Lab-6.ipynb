{
 "cells": [
  {
   "attachments": {},
   "cell_type": "markdown",
   "metadata": {},
   "source": [
    "<a href='https://www.darshan.ac.in/'> <img src='https://www.darshan.ac.in/Content/media/DU_Logo.svg' width=\"250\" height=\"300\"/></a>\n",
    "<pre>\n",
    "<center><b><h1>Python Programming - 2301CS404</b></center>\n",
    "<center><b><h1>Lab - 6</b></center>    \n",
    "<pre>"
   ]
  },
  {
   "cell_type": "markdown",
   "metadata": {},
   "source": [
    "# Tuple"
   ]
  },
  {
   "cell_type": "markdown",
   "metadata": {},
   "source": [
    "### 01) WAP to find sum of tuple elements."
   ]
  },
  {
   "cell_type": "code",
   "execution_count": 13,
   "metadata": {},
   "outputs": [
    {
     "name": "stdin",
     "output_type": "stream",
     "text": [
      "Enter Length of Tuple :  3\n",
      "Enter an Elements in Tuple :  2\n",
      "Enter an Elements in Tuple :  4\n",
      "Enter an Elements in Tuple :  5\n"
     ]
    },
    {
     "name": "stdout",
     "output_type": "stream",
     "text": [
      "Tuple is :  (2, 4, 5)\n",
      "Sum Of All The Elements in Tuple is :  11\n"
     ]
    }
   ],
   "source": [
    "t1 = ()\n",
    "n = int(input(\"Enter Length of Tuple : \"))\n",
    "for i in range(0,n):\n",
    "    ele = int(input(\"Enter an Elements in Tuple : \"))\n",
    "    t1 += (ele,)\n",
    "print(\"Tuple is : \",t1)\n",
    "ans = sum(t1)\n",
    "print(\"Sum Of All The Elements in Tuple is : \",ans)"
   ]
  },
  {
   "cell_type": "markdown",
   "metadata": {},
   "source": [
    "### 02) WAP to find Maximum and Minimum K elements in a given tuple."
   ]
  },
  {
   "cell_type": "code",
   "execution_count": 21,
   "metadata": {},
   "outputs": [
    {
     "name": "stdin",
     "output_type": "stream",
     "text": [
      "Enter Length of Tuple :  5\n",
      "Enter an Elements in Tuple :  1\n",
      "Enter an Elements in Tuple :  2\n",
      "Enter an Elements in Tuple :  2\n",
      "Enter an Elements in Tuple :  3\n",
      "Enter an Elements in Tuple :  4\n"
     ]
    },
    {
     "name": "stdout",
     "output_type": "stream",
     "text": [
      "Tuple is :  (1, 2, 2, 3, 4)\n"
     ]
    },
    {
     "name": "stdin",
     "output_type": "stream",
     "text": [
      "Enter Number that you want Min & Max :  2\n"
     ]
    },
    {
     "name": "stdout",
     "output_type": "stream",
     "text": [
      "Minimum Elements are :  [1, 2]\n",
      "Maximum Elements are :  [3, 4]\n"
     ]
    }
   ],
   "source": [
    "t1 = ()\n",
    "n = int(input(\"Enter Length of Tuple : \"))\n",
    "for i in range(0,n):\n",
    "    ele = int(input(\"Enter an Elements in Tuple : \"))\n",
    "    t1 += (ele,)\n",
    "print(\"Tuple is : \",t1)\n",
    "k = int(input(\"Enter Number that you want Min & Max : \"))\n",
    "if(k <= 0 or k >= len(t1)):\n",
    "    print(\"Invalid Value of K.\")\n",
    "sort_t1 = sorted(set(t1))\n",
    "min_ele = sort_t1[:k]\n",
    "max_ele = sort_t1[-k:]\n",
    "print(\"Minimum Elements are : \",min_ele)\n",
    "print(\"Maximum Elements are : \",max_ele)"
   ]
  },
  {
   "cell_type": "markdown",
   "metadata": {},
   "source": [
    "### 03) WAP to find tuples which have all elements divisible by K from a list of tuples."
   ]
  },
  {
   "cell_type": "code",
   "execution_count": 43,
   "metadata": {},
   "outputs": [
    {
     "name": "stdin",
     "output_type": "stream",
     "text": [
      "Enter the number of tuples:  3\n",
      "Enter the size of tuple :  3\n",
      "Enter elements of tuple :  2\n",
      "Enter elements of tuple :  4\n",
      "Enter elements of tuple :  6\n",
      "Enter the size of tuple :  4\n",
      "Enter elements of tuple :  2\n",
      "Enter elements of tuple :  3\n",
      "Enter elements of tuple :  5\n",
      "Enter elements of tuple :  4\n",
      "Enter the size of tuple :  2\n",
      "Enter elements of tuple :  2\n",
      "Enter elements of tuple :  6\n"
     ]
    },
    {
     "name": "stdout",
     "output_type": "stream",
     "text": [
      "Tuples are: [(2, 4, 6), (2, 3, 5, 4), (2, 6)]\n"
     ]
    },
    {
     "name": "stdin",
     "output_type": "stream",
     "text": [
      "Enter a number to divide all elements by:  2\n"
     ]
    },
    {
     "name": "stdout",
     "output_type": "stream",
     "text": [
      "Tuples divisible by  2  :  [(2, 4, 6), (2, 6)]\n"
     ]
    }
   ],
   "source": [
    "list_of_tuples = []\n",
    "n = int(input(\"Enter the number of tuples: \"))\n",
    "for i in range(n):\n",
    "    size = int(input(\"Enter the size of tuple : \"))\n",
    "    t1 = ()\n",
    "    for j in range(0,size):\n",
    "        ele = int(input(\"Enter elements of tuple : \"))\n",
    "        t1 += (ele,)\n",
    "    list_of_tuples.append(t1)\n",
    "    t1 = ()\n",
    "print(\"Tuples are:\", list_of_tuples)\n",
    "k = int(input(\"Enter a number to divide all elements by: \"))\n",
    "if k <= 0:\n",
    "    print(\"Invalid value of K.\")\n",
    "divisible_tuples = []\n",
    "for t in list_of_tuples:\n",
    "    if all(ele % k == 0 for ele in t):\n",
    "        divisible_tuples.append(t)\n",
    "print(\"Tuples divisible by \",k,\" : \",divisible_tuples)"
   ]
  },
  {
   "cell_type": "markdown",
   "metadata": {},
   "source": [
    "### 04) WAP to create a list of tuples from given list having number and its cube in each tuple."
   ]
  },
  {
   "cell_type": "code",
   "execution_count": 7,
   "metadata": {},
   "outputs": [
    {
     "name": "stdin",
     "output_type": "stream",
     "text": [
      "Enter Length of List :  5\n",
      "Enter an Elements in List :  2\n",
      "Enter an Elements in List :  4\n",
      "Enter an Elements in List :  3\n",
      "Enter an Elements in List :  7\n",
      "Enter an Elements in List :  6\n"
     ]
    },
    {
     "name": "stdout",
     "output_type": "stream",
     "text": [
      "List is :  [2, 4, 3, 7, 6]\n",
      "List Of Tuples Are :  [(2, 8), (4, 64), (3, 27), (7, 343), (6, 216)]\n"
     ]
    }
   ],
   "source": [
    "li = []\n",
    "n = int(input(\"Enter Length of List : \"))\n",
    "for i in range(0,n):\n",
    "    ele = int(input(\"Enter an Elements in List : \"))\n",
    "    li.append(ele)\n",
    "print(\"List is : \",li)\n",
    "list_of_tuples = []\n",
    "# t1 = ()\n",
    "for i in range(0,n):\n",
    "    list_of_tuples.append((li[i], li[i]**3))\n",
    "# list_of_tuples.append(t1)\n",
    "# t1 = ()\n",
    "print(\"List Of Tuples Are : \",list_of_tuples)"
   ]
  },
  {
   "cell_type": "markdown",
   "metadata": {},
   "source": [
    "### 05) WAP to find tuples with all positive elements from the given list of tuples."
   ]
  },
  {
   "cell_type": "code",
   "execution_count": 27,
   "metadata": {},
   "outputs": [
    {
     "name": "stdin",
     "output_type": "stream",
     "text": [
      "Enter Number of tuples:  3\n",
      "Enter Length of Tuple :  2\n",
      "Enter an Elements in Tuple :  -3\n",
      "Enter an Elements in Tuple :  4\n",
      "Enter Length of Tuple :  3\n",
      "Enter an Elements in Tuple :  3\n",
      "Enter an Elements in Tuple :  5\n",
      "Enter an Elements in Tuple :  7\n",
      "Enter Length of Tuple :  4\n",
      "Enter an Elements in Tuple :  10\n",
      "Enter an Elements in Tuple :  6\n",
      "Enter an Elements in Tuple :  16\n",
      "Enter an Elements in Tuple :  4\n"
     ]
    },
    {
     "name": "stdout",
     "output_type": "stream",
     "text": [
      "List of Tuples:  [(-3, 4), (3, 5, 7), (10, 6, 16, 4)]\n",
      "Tuples With all Positive elements:  ((3, 5, 7), (10, 6, 16, 4))\n"
     ]
    }
   ],
   "source": [
    "n = int(input(\"Enter Number of tuples: \"))\n",
    "list_of_tuples = []\n",
    "for i in range(0,n):\n",
    "    t1 = ()\n",
    "    m = int(input(\"Enter Length of Tuple : \"))\n",
    "    for i in range(0,m):\n",
    "        ele = int(input(\"Enter an Elements in Tuple : \"))\n",
    "        t1 += (ele,)\n",
    "    list_of_tuples.append((t1))\n",
    "    t1 = ()\n",
    "print(\"List of Tuples: \", list_of_tuples)\n",
    "positive_tuples = ()\n",
    "for i in list_of_tuples:\n",
    "    if all(x > 0 for x in i):\n",
    "        positive_tuples += (i,)\n",
    "print(\"Tuples With all Positive elements: \",positive_tuples)"
   ]
  },
  {
   "cell_type": "markdown",
   "metadata": {},
   "source": [
    "### 06) WAP to add tuple to list and vice – versa."
   ]
  },
  {
   "cell_type": "code",
   "execution_count": 1,
   "metadata": {},
   "outputs": [
    {
     "name": "stdout",
     "output_type": "stream",
     "text": [
      "[1, 2, 3, 4, 50, (16, 18, 20, 220)]\n",
      "(10, 20, 30, 40, 50, [1, 2, 2, 4, 6])\n"
     ]
    }
   ],
   "source": [
    "l1=[1,2,3,4,50]\n",
    "t1=(16,18,20,220)\n",
    "l1.append(t1)\n",
    "print(l1)\n",
    "t2=(10,20,30,40,50)\n",
    "l1=[1,2,2,4,6]\n",
    "t2=t2+(l1,)\n",
    "print(t2)"
   ]
  },
  {
   "cell_type": "markdown",
   "metadata": {},
   "source": [
    "### 07) WAP to remove tuples of length K."
   ]
  },
  {
   "cell_type": "code",
   "execution_count": 3,
   "metadata": {},
   "outputs": [
    {
     "name": "stdin",
     "output_type": "stream",
     "text": [
      "Enter desired length 4\n"
     ]
    },
    {
     "name": "stdout",
     "output_type": "stream",
     "text": [
      "[(3, 5, 6), (45, 60)]\n"
     ]
    }
   ],
   "source": [
    "l1=[(1,2,3,4),(10,5,8,20),(3,5,6),(45,60)]\n",
    "l2=[]\n",
    "k=int(input(\"Enter desired length\"))\n",
    "count=0\n",
    "for i in l1:\n",
    "    count=0\n",
    "    for j in i:\n",
    "            count+=1\n",
    "    if count!=k:\n",
    "        l2.append(i)\n",
    "print(l2)"
   ]
  },
  {
   "cell_type": "markdown",
   "metadata": {},
   "source": [
    "### 08) WAP to remove duplicates from tuple."
   ]
  },
  {
   "cell_type": "code",
   "execution_count": 5,
   "metadata": {},
   "outputs": [
    {
     "name": "stdout",
     "output_type": "stream",
     "text": [
      "(1, 2, 3, 20)\n"
     ]
    }
   ],
   "source": [
    "t1=(1,2,3,2,20)\n",
    "t2=()\n",
    "for i in t1:\n",
    "    if i not in t2:\n",
    "        t2+=(i,)\n",
    "print(t2)"
   ]
  },
  {
   "cell_type": "markdown",
   "metadata": {},
   "source": [
    "### 09) WAP to multiply adjacent elements of a tuple and print that resultant tuple."
   ]
  },
  {
   "cell_type": "code",
   "execution_count": 7,
   "metadata": {},
   "outputs": [
    {
     "name": "stdout",
     "output_type": "stream",
     "text": [
      "(2, 6, 12, 20, 30)\n"
     ]
    }
   ],
   "source": [
    "t1=(1,2,3,4,5,6)\n",
    "ans=tuple(i*j for i,j in zip(t1,t1[1:]))\n",
    "print(ans)"
   ]
  },
  {
   "cell_type": "markdown",
   "metadata": {},
   "source": [
    "### 10) WAP to test if the given tuple is distinct or not."
   ]
  },
  {
   "cell_type": "code",
   "execution_count": 9,
   "metadata": {},
   "outputs": [
    {
     "name": "stdout",
     "output_type": "stream",
     "text": [
      "Distinct\n"
     ]
    }
   ],
   "source": [
    "t1=(1,2,3,4,5,6)\n",
    "count=0\n",
    "for i in t1:\n",
    "    if(t1.count(i)!=1):\n",
    "        print('Not distinct')\n",
    "        break\n",
    "\n",
    "else:\n",
    "    print('Distinct')"
   ]
  }
 ],
 "metadata": {
  "kernelspec": {
   "display_name": "Python 3 (ipykernel)",
   "language": "python",
   "name": "python3"
  },
  "language_info": {
   "codemirror_mode": {
    "name": "ipython",
    "version": 3
   },
   "file_extension": ".py",
   "mimetype": "text/x-python",
   "name": "python",
   "nbconvert_exporter": "python",
   "pygments_lexer": "ipython3",
   "version": "3.12.7"
  }
 },
 "nbformat": 4,
 "nbformat_minor": 4
}
